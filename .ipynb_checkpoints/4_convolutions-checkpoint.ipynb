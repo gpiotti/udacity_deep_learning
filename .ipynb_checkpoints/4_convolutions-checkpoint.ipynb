{
 "cells": [
  {
   "cell_type": "markdown",
   "metadata": {
    "colab_type": "text",
    "id": "4embtkV0pNxM"
   },
   "source": [
    "Deep Learning\n",
    "=============\n",
    "\n",
    "Assignment 4\n",
    "------------\n",
    "\n",
    "Previously in `2_fullyconnected.ipynb` and `3_regularization.ipynb`, we trained fully connected networks to classify [notMNIST](http://yaroslavvb.blogspot.com/2011/09/notmnist-dataset.html) characters.\n",
    "\n",
    "The goal of this assignment is make the neural network convolutional."
   ]
  },
  {
   "cell_type": "code",
   "execution_count": 22,
   "metadata": {
    "cellView": "both",
    "colab": {
     "autoexec": {
      "startup": false,
      "wait_interval": 0
     }
    },
    "colab_type": "code",
    "id": "tm2CQN_Cpwj0"
   },
   "outputs": [],
   "source": [
    "# These are all the modules we'll be using later. Make sure you can import them\n",
    "# before proceeding further.\n",
    "from __future__ import print_function\n",
    "import numpy as np\n",
    "import tensorflow as tf\n",
    "from six.moves import cPickle as pickle\n",
    "from six.moves import range\n",
    "from tensorflow.contrib.layers import flatten"
   ]
  },
  {
   "cell_type": "code",
   "execution_count": 2,
   "metadata": {
    "cellView": "both",
    "colab": {
     "autoexec": {
      "startup": false,
      "wait_interval": 0
     },
     "output_extras": [
      {
       "item_id": 1
      }
     ]
    },
    "colab_type": "code",
    "executionInfo": {
     "elapsed": 11948,
     "status": "ok",
     "timestamp": 1446658914837,
     "user": {
      "color": "",
      "displayName": "",
      "isAnonymous": false,
      "isMe": true,
      "permissionId": "",
      "photoUrl": "",
      "sessionId": "0",
      "userId": ""
     },
     "user_tz": 480
    },
    "id": "y3-cj1bpmuxc",
    "outputId": "016b1a51-0290-4b08-efdb-8c95ffc3cd01"
   },
   "outputs": [
    {
     "name": "stdout",
     "output_type": "stream",
     "text": [
      "Training set (200000, 28, 28) (200000,)\n",
      "Validation set (10000, 28, 28) (10000,)\n",
      "Test set (10000, 28, 28) (10000,)\n"
     ]
    }
   ],
   "source": [
    "pickle_file = 'models/notMNIST.pickle'\n",
    "\n",
    "with open(pickle_file, 'rb') as f:\n",
    "    save = pickle.load(f)\n",
    "    train_dataset = save['train_dataset']\n",
    "    train_labels = save['train_labels']\n",
    "    valid_dataset = save['valid_dataset']\n",
    "    valid_labels = save['valid_labels']\n",
    "    test_dataset = save['test_dataset']\n",
    "    test_labels = save['test_labels']\n",
    "    del save  # hint to help gc free up memory\n",
    "    print('Training set', train_dataset.shape, train_labels.shape)\n",
    "    print('Validation set', valid_dataset.shape, valid_labels.shape)\n",
    "    print('Test set', test_dataset.shape, test_labels.shape)"
   ]
  },
  {
   "cell_type": "markdown",
   "metadata": {
    "colab_type": "text",
    "id": "L7aHrm6nGDMB"
   },
   "source": [
    "Reformat into a TensorFlow-friendly shape:\n",
    "- convolutions need the image data formatted as a cube (width by height by #channels)\n",
    "- labels as float 1-hot encodings."
   ]
  },
  {
   "cell_type": "code",
   "execution_count": 3,
   "metadata": {
    "cellView": "both",
    "colab": {
     "autoexec": {
      "startup": false,
      "wait_interval": 0
     },
     "output_extras": [
      {
       "item_id": 1
      }
     ]
    },
    "colab_type": "code",
    "executionInfo": {
     "elapsed": 11952,
     "status": "ok",
     "timestamp": 1446658914857,
     "user": {
      "color": "",
      "displayName": "",
      "isAnonymous": false,
      "isMe": true,
      "permissionId": "",
      "photoUrl": "",
      "sessionId": "0",
      "userId": ""
     },
     "user_tz": 480
    },
    "id": "IRSyYiIIGIzS",
    "outputId": "650a208c-8359-4852-f4f5-8bf10e80ef6c"
   },
   "outputs": [
    {
     "name": "stdout",
     "output_type": "stream",
     "text": [
      "Training set (200000, 28, 28, 1) (200000, 10)\n",
      "Validation set (10000, 28, 28, 1) (10000, 10)\n",
      "Test set (10000, 28, 28, 1) (10000, 10)\n"
     ]
    }
   ],
   "source": [
    "image_size = 28\n",
    "num_labels = 10\n",
    "num_channels = 1 # grayscale\n",
    "\n",
    "import numpy as np\n",
    "\n",
    "def reformat(dataset, labels):\n",
    "    dataset = dataset.reshape(\n",
    "    (-1, image_size, image_size, num_channels)).astype(np.float32)\n",
    "    labels = (np.arange(num_labels) == labels[:,None]).astype(np.float32)\n",
    "    return dataset, labels\n",
    "train_dataset, train_labels = reformat(train_dataset, train_labels)\n",
    "valid_dataset, valid_labels = reformat(valid_dataset, valid_labels)\n",
    "test_dataset, test_labels = reformat(test_dataset, test_labels)\n",
    "print('Training set', train_dataset.shape, train_labels.shape)\n",
    "print('Validation set', valid_dataset.shape, valid_labels.shape)\n",
    "print('Test set', test_dataset.shape, test_labels.shape)"
   ]
  },
  {
   "cell_type": "code",
   "execution_count": 4,
   "metadata": {
    "cellView": "both",
    "colab": {
     "autoexec": {
      "startup": false,
      "wait_interval": 0
     }
    },
    "colab_type": "code",
    "id": "AgQDIREv02p1"
   },
   "outputs": [],
   "source": [
    "def accuracy(predictions, labels):\n",
    "    return (100.0 * np.sum(np.argmax(predictions, 1) == np.argmax(labels, 1))\n",
    "          / predictions.shape[0])"
   ]
  },
  {
   "cell_type": "markdown",
   "metadata": {
    "colab_type": "text",
    "id": "5rhgjmROXu2O"
   },
   "source": [
    "Let's build a small network with two convolutional layers, followed by one fully connected layer. Convolutional networks are more expensive computationally, so we'll limit its depth and number of fully connected nodes."
   ]
  },
  {
   "cell_type": "code",
   "execution_count": 60,
   "metadata": {
    "cellView": "both",
    "colab": {
     "autoexec": {
      "startup": false,
      "wait_interval": 0
     }
    },
    "colab_type": "code",
    "id": "IZYv70SvvOan"
   },
   "outputs": [
    {
     "name": "stdout",
     "output_type": "stream",
     "text": [
      "INFO:tensorflow:Data: Tensor(\"Placeholder_1:0\", shape=(64, 28, 28, 1), dtype=float32)\n",
      "INFO:tensorflow:Conv1: Tensor(\"Conv2D:0\", shape=(64, 28, 28, 16), dtype=float32)\n",
      "INFO:tensorflow:max_pool1: Tensor(\"MaxPool:0\", shape=(64, 14, 14, 16), dtype=float32)\n",
      "INFO:tensorflow:conv2: Tensor(\"Conv2D_1:0\", shape=(64, 14, 14, 16), dtype=float32)\n",
      "INFO:tensorflow:max_pool2: Tensor(\"MaxPool_1:0\", shape=(64, 7, 7, 16), dtype=float32)\n",
      "INFO:tensorflow:shape: [64, 7, 7, 16]\n",
      "INFO:tensorflow:reshape: Tensor(\"Reshape:0\", shape=(64, 784), dtype=float32)\n",
      "INFO:tensorflow:w3: <tf.Variable 'Variable_2:0' shape=(784, 64) dtype=float32_ref>\n",
      "INFO:tensorflow:out: Tensor(\"add_3:0\", shape=(64, 10), dtype=float32)\n",
      "INFO:tensorflow:Data: Tensor(\"Const:0\", shape=(10000, 28, 28, 1), dtype=float32)\n",
      "INFO:tensorflow:Conv1: Tensor(\"Conv2D_2:0\", shape=(10000, 28, 28, 16), dtype=float32)\n",
      "INFO:tensorflow:max_pool1: Tensor(\"MaxPool_2:0\", shape=(10000, 14, 14, 16), dtype=float32)\n",
      "INFO:tensorflow:conv2: Tensor(\"Conv2D_3:0\", shape=(10000, 14, 14, 16), dtype=float32)\n",
      "INFO:tensorflow:max_pool2: Tensor(\"MaxPool_3:0\", shape=(10000, 7, 7, 16), dtype=float32)\n",
      "INFO:tensorflow:shape: [10000, 7, 7, 16]\n",
      "INFO:tensorflow:reshape: Tensor(\"Reshape_1:0\", shape=(10000, 784), dtype=float32)\n",
      "INFO:tensorflow:w3: <tf.Variable 'Variable_2:0' shape=(784, 64) dtype=float32_ref>\n",
      "INFO:tensorflow:out: Tensor(\"add_7:0\", shape=(10000, 10), dtype=float32)\n",
      "INFO:tensorflow:Data: Tensor(\"Const_1:0\", shape=(10000, 28, 28, 1), dtype=float32)\n",
      "INFO:tensorflow:Conv1: Tensor(\"Conv2D_4:0\", shape=(10000, 28, 28, 16), dtype=float32)\n",
      "INFO:tensorflow:max_pool1: Tensor(\"MaxPool_4:0\", shape=(10000, 14, 14, 16), dtype=float32)\n",
      "INFO:tensorflow:conv2: Tensor(\"Conv2D_5:0\", shape=(10000, 14, 14, 16), dtype=float32)\n",
      "INFO:tensorflow:max_pool2: Tensor(\"MaxPool_5:0\", shape=(10000, 7, 7, 16), dtype=float32)\n",
      "INFO:tensorflow:shape: [10000, 7, 7, 16]\n",
      "INFO:tensorflow:reshape: Tensor(\"Reshape_2:0\", shape=(10000, 784), dtype=float32)\n",
      "INFO:tensorflow:w3: <tf.Variable 'Variable_2:0' shape=(784, 64) dtype=float32_ref>\n",
      "INFO:tensorflow:out: Tensor(\"add_11:0\", shape=(10000, 10), dtype=float32)\n"
     ]
    }
   ],
   "source": [
    "\n",
    "\n",
    "batch_size = 64\n",
    "patch_size = 5\n",
    "depth = 16\n",
    "num_hidden = 64\n",
    "\n",
    "graph = tf.Graph()\n",
    "\n",
    "with graph.as_default():\n",
    "    keep_prob = tf.placeholder(tf.float32)\n",
    "  # Input data.\n",
    "    tf_train_dataset = tf.placeholder(\n",
    "        tf.float32, shape=(batch_size, image_size, image_size, num_channels))\n",
    "    tf_train_labels = tf.placeholder(tf.float32, shape=(batch_size, num_labels))\n",
    "    tf_valid_dataset = tf.constant(valid_dataset)\n",
    "    tf_test_dataset = tf.constant(test_dataset)\n",
    "    \n",
    "    # Variables.\n",
    "    weights = {\n",
    "        'conv_w1': tf.Variable(tf.random_normal([patch_size, patch_size, num_channels, depth], stddev=0.1)),\n",
    "        'conv_w2': tf.Variable(tf.random_normal( [patch_size, patch_size, depth, depth], stddev=0.1)),\n",
    "        'w3': tf.Variable(tf.random_normal( [image_size // 4 * image_size // 4 * depth, num_hidden],\n",
    "                                           stddev=0.1)),\n",
    "        'out': tf.Variable(tf.random_normal([num_hidden, num_labels], stddev=0.1))\n",
    "    }\n",
    "    \n",
    "    biases = {\n",
    "        'conv_b1': tf.Variable(tf.random_normal([depth], stddev=0.1)),\n",
    "        'conv_b2': tf.Variable(tf.random_normal([depth], stddev=0.1)),\n",
    "        'b3': tf.Variable(tf.random_normal([num_hidden], stddev=0.1)),\n",
    "        'out': tf.Variable(tf.random_normal([num_labels], stddev=0.1))\n",
    "    }\n",
    "\n",
    "  # Model.\n",
    "    def model(data):\n",
    "        \n",
    "        tf.logging.info(\"Data: %s\", data)\n",
    "        conv = tf.nn.conv2d(data, weights['conv_w1'], [1, 1, 1, 1], padding='SAME')\n",
    "        tf.logging.info(\"Conv1: %s\", conv)\n",
    "        conv = tf.nn.max_pool(conv, ksize=[1, 2, 2, 1], strides=[1, 2, 2, 1], padding='SAME')\n",
    "        tf.logging.info(\"max_pool1: %s\", conv)\n",
    "        hidden = tf.nn.relu(conv + biases['conv_b1'])\n",
    "        conv = tf.nn.conv2d(hidden, weights['conv_w2'], [1, 1, 1, 1], padding='SAME')\n",
    "        tf.logging.info('conv2: %s', conv)\n",
    "        conv = tf.nn.max_pool(conv, ksize=[1, 2, 2, 1], strides=[1, 2, 2, 1], padding='SAME')\n",
    "        tf.logging.info('max_pool2: %s', conv)\n",
    "        hidden = tf.nn.relu(conv + biases['conv_b2'])\n",
    "        shape = hidden.get_shape().as_list()\n",
    "        tf.logging.info(\"shape: %s\", shape)\n",
    "        \n",
    "        \n",
    "        reshape = tf.reshape(hidden, [shape[0], shape[1] * shape[2] * shape[3]])\n",
    "        tf.logging.info(\"reshape: %s\", reshape)\n",
    "        tf.logging.info(\"w3: %s\", weights['w3'])\n",
    "        hidden = tf.nn.dropout(tf.nn.relu(tf.matmul(reshape, weights['w3']) +  biases['b3']), keep_prob)\n",
    "        out = tf.matmul(hidden,  weights['out']) + biases['out']\n",
    "        tf.logging.info(\"out: %s\", out)\n",
    "        return out\n",
    "\n",
    "    # Training computation.\n",
    "    logits = model(tf_train_dataset)\n",
    "    loss = tf.reduce_mean(\n",
    "    tf.nn.softmax_cross_entropy_with_logits_v2(labels=tf_train_labels, logits=logits))\n",
    "    \n",
    "    # Optimizer.\n",
    "    optimizer = tf.train.GradientDescentOptimizer(0.05).minimize(loss)\n",
    "\n",
    "    # Predictions for the training, validation, and test data.\n",
    "    train_prediction = tf.nn.softmax(logits)\n",
    "    valid_prediction = tf.nn.softmax(model(tf_valid_dataset))\n",
    "    test_prediction = tf.nn.softmax(model(tf_test_dataset))"
   ]
  },
  {
   "cell_type": "code",
   "execution_count": 62,
   "metadata": {
    "cellView": "both",
    "colab": {
     "autoexec": {
      "startup": false,
      "wait_interval": 0
     },
     "output_extras": [
      {
       "item_id": 37
      }
     ]
    },
    "colab_type": "code",
    "executionInfo": {
     "elapsed": 63292,
     "status": "ok",
     "timestamp": 1446658966251,
     "user": {
      "color": "",
      "displayName": "",
      "isAnonymous": false,
      "isMe": true,
      "permissionId": "",
      "photoUrl": "",
      "sessionId": "0",
      "userId": ""
     },
     "user_tz": 480
    },
    "id": "noKFb2UovVFR",
    "outputId": "28941338-2ef9-4088-8bd1-44295661e628"
   },
   "outputs": [
    {
     "name": "stdout",
     "output_type": "stream",
     "text": [
      "Initialized\n",
      "Minibatch loss at step 0: 2.597584\n",
      "Minibatch accuracy: 9.4%\n",
      "Validation accuracy: 10.0%\n",
      "Minibatch loss at step 1000: 0.378585\n",
      "Minibatch accuracy: 90.6%\n",
      "Validation accuracy: 85.0%\n",
      "Minibatch loss at step 2000: 0.486769\n",
      "Minibatch accuracy: 87.5%\n",
      "Validation accuracy: 86.3%\n",
      "Minibatch loss at step 3000: 0.494383\n",
      "Minibatch accuracy: 89.1%\n",
      "Validation accuracy: 86.8%\n",
      "Minibatch loss at step 4000: 0.541781\n",
      "Minibatch accuracy: 84.4%\n",
      "Validation accuracy: 87.8%\n",
      "Minibatch loss at step 5000: 0.500489\n",
      "Minibatch accuracy: 84.4%\n",
      "Validation accuracy: 88.1%\n",
      "Test accuracy: 94.5%\n"
     ]
    }
   ],
   "source": [
    "num_steps = 5501\n",
    "\n",
    "with tf.Session(graph=graph) as session:\n",
    "    tf.global_variables_initializer().run()\n",
    "    print('Initialized')\n",
    "    for step in range(num_steps):\n",
    "        offset = (step * batch_size) % (train_labels.shape[0] - batch_size)\n",
    "        batch_data = train_dataset[offset:(offset + batch_size), :, :, :]\n",
    "        batch_labels = train_labels[offset:(offset + batch_size), :]\n",
    "        feed_dict = {tf_train_dataset : batch_data, tf_train_labels : batch_labels,\n",
    "                    keep_prob: 0.7}\n",
    "        \n",
    "        _, l, predictions = session.run(\n",
    "        [optimizer, loss, train_prediction], feed_dict=feed_dict)\n",
    "        if (step % 1000 == 0):\n",
    "            print('Minibatch loss at step %d: %f' % (step, l))\n",
    "            print('Minibatch accuracy: %.1f%%' % accuracy(predictions, batch_labels))\n",
    "            print('Validation accuracy: %.1f%%' % accuracy(\n",
    "                valid_prediction.eval(feed_dict={keep_prob: 1.0}), valid_labels))\n",
    "    print('Test accuracy: %.1f%%' % accuracy(test_prediction.eval(feed_dict={keep_prob: 1.0}), test_labels))"
   ]
  },
  {
   "cell_type": "code",
   "execution_count": 13,
   "metadata": {
    "scrolled": true
   },
   "outputs": [
    {
     "data": {
      "text/plain": [
       "7.0"
      ]
     },
     "execution_count": 13,
     "metadata": {},
     "output_type": "execute_result"
    }
   ],
   "source": [
    "best 95.2%"
   ]
  },
  {
   "cell_type": "markdown",
   "metadata": {
    "colab_type": "text",
    "id": "KedKkn4EutIK"
   },
   "source": [
    "---\n",
    "Problem 1\n",
    "---------\n",
    "\n",
    "The convolutional model above uses convolutions with stride 2 to reduce the dimensionality. Replace the strides by a max pooling operation (`nn.max_pool()`) of stride 2 and kernel size 2.\n",
    "\n",
    "---"
   ]
  },
  {
   "cell_type": "markdown",
   "metadata": {
    "colab_type": "text",
    "id": "klf21gpbAgb-"
   },
   "source": [
    "---\n",
    "Problem 2\n",
    "---------\n",
    "\n",
    "Try to get the best performance you can using a convolutional net. Look for example at the classic [LeNet5](http://yann.lecun.com/exdb/lenet/) architecture, adding Dropout, and/or adding learning rate decay.\n",
    "\n",
    "---"
   ]
  },
  {
   "cell_type": "markdown",
   "metadata": {},
   "source": [
    "#### Lenet"
   ]
  },
  {
   "cell_type": "code",
   "execution_count": 78,
   "metadata": {},
   "outputs": [
    {
     "name": "stdout",
     "output_type": "stream",
     "text": [
      "INFO:tensorflow:Data: Tensor(\"Placeholder_1:0\", shape=(64, 28, 28, 1), dtype=float32)\n",
      "\n",
      "INFO:tensorflow:Conv1: Tensor(\"Relu:0\", shape=(64, 24, 24, 6), dtype=float32)\n",
      "\n",
      "INFO:tensorflow:avgp_1: Tensor(\"AvgPool:0\", shape=(64, 12, 12, 6), dtype=float32)\n",
      "\n",
      "INFO:tensorflow:conv2: Tensor(\"Relu_1:0\", shape=(64, 8, 8, 16), dtype=float32)\n",
      "\n",
      "INFO:tensorflow:avgp_2: Tensor(\"AvgPool_1:0\", shape=(64, 4, 4, 16), dtype=float32)\n",
      "\n",
      "INFO:tensorflow:avgp_2_flattened: Tensor(\"Flatten/flatten/Reshape:0\", shape=(64, 256), dtype=float32)\n",
      "\n",
      "INFO:tensorflow:fc1: Tensor(\"dropout/mul:0\", shape=(64, 120), dtype=float32)\n",
      "\n",
      "INFO:tensorflow:fc2: Tensor(\"dropout_1/mul:0\", shape=(64, 84), dtype=float32)\n",
      "\n",
      "INFO:tensorflow:out: Tensor(\"MatMul_2:0\", shape=(64, 10), dtype=float32)\n",
      "\n",
      "INFO:tensorflow:Data: Tensor(\"Const:0\", shape=(10000, 28, 28, 1), dtype=float32)\n",
      "\n",
      "INFO:tensorflow:Conv1: Tensor(\"Relu_4:0\", shape=(10000, 24, 24, 6), dtype=float32)\n",
      "\n",
      "INFO:tensorflow:avgp_1: Tensor(\"AvgPool_2:0\", shape=(10000, 12, 12, 6), dtype=float32)\n",
      "\n",
      "INFO:tensorflow:conv2: Tensor(\"Relu_5:0\", shape=(10000, 8, 8, 16), dtype=float32)\n",
      "\n",
      "INFO:tensorflow:avgp_2: Tensor(\"AvgPool_3:0\", shape=(10000, 4, 4, 16), dtype=float32)\n",
      "\n",
      "INFO:tensorflow:avgp_2_flattened: Tensor(\"Flatten_1/flatten/Reshape:0\", shape=(10000, 256), dtype=float32)\n",
      "\n",
      "INFO:tensorflow:fc1: Tensor(\"dropout_2/mul:0\", shape=(10000, 120), dtype=float32)\n",
      "\n",
      "INFO:tensorflow:fc2: Tensor(\"dropout_3/mul:0\", shape=(10000, 84), dtype=float32)\n",
      "\n",
      "INFO:tensorflow:out: Tensor(\"MatMul_5:0\", shape=(10000, 10), dtype=float32)\n",
      "\n",
      "INFO:tensorflow:Data: Tensor(\"Const_1:0\", shape=(10000, 28, 28, 1), dtype=float32)\n",
      "\n",
      "INFO:tensorflow:Conv1: Tensor(\"Relu_8:0\", shape=(10000, 24, 24, 6), dtype=float32)\n",
      "\n",
      "INFO:tensorflow:avgp_1: Tensor(\"AvgPool_4:0\", shape=(10000, 12, 12, 6), dtype=float32)\n",
      "\n",
      "INFO:tensorflow:conv2: Tensor(\"Relu_9:0\", shape=(10000, 8, 8, 16), dtype=float32)\n",
      "\n",
      "INFO:tensorflow:avgp_2: Tensor(\"AvgPool_5:0\", shape=(10000, 4, 4, 16), dtype=float32)\n",
      "\n",
      "INFO:tensorflow:avgp_2_flattened: Tensor(\"Flatten_2/flatten/Reshape:0\", shape=(10000, 256), dtype=float32)\n",
      "\n",
      "INFO:tensorflow:fc1: Tensor(\"dropout_4/mul:0\", shape=(10000, 120), dtype=float32)\n",
      "\n",
      "INFO:tensorflow:fc2: Tensor(\"dropout_5/mul:0\", shape=(10000, 84), dtype=float32)\n",
      "\n",
      "INFO:tensorflow:out: Tensor(\"MatMul_8:0\", shape=(10000, 10), dtype=float32)\n",
      "\n"
     ]
    }
   ],
   "source": [
    "logger = logging.getLogger()\n",
    "logger.setLevel(logging.INFO)\n",
    "\n",
    "batch_size = 64\n",
    "patch_size = 5\n",
    "num_filters_1 = 16\n",
    "fully_connected_1_nodes = 64\n",
    "\n",
    "graph = tf.Graph()\n",
    "\n",
    "with graph.as_default():\n",
    "    keep_prob = tf.placeholder(tf.float32)\n",
    "  # Input data.\n",
    "    tf_train_dataset = tf.placeholder(\n",
    "        tf.float32, shape=(batch_size, image_size, image_size, num_channels))\n",
    "    tf_train_labels = tf.placeholder(tf.float32, shape=(batch_size, num_labels))\n",
    "    tf_valid_dataset = tf.constant(valid_dataset)\n",
    "    tf_test_dataset = tf.constant(test_dataset)\n",
    "    \n",
    "    # Variables.\n",
    "    weights = {\n",
    "        'conv1_w': tf.Variable(tf.random_normal(\n",
    "            [5, 5, 1, 6], stddev=0.1)),\n",
    "        'conv2_w': tf.Variable(tf.random_normal(\n",
    "            [5, 5, 6, 16], stddev=0.1)),\n",
    "        'fc1_w': tf.Variable(tf.random_normal(\n",
    "            [256, 120], stddev=0.1)),\n",
    "        'fc2_w': tf.Variable(tf.random_normal(\n",
    "            [120, 84],\n",
    "                                           stddev=0.1)),\n",
    "        'out': tf.Variable(tf.random_normal([84, 10], stddev=0.1))\n",
    "    }\n",
    "    \n",
    "    biases = {\n",
    "        'conv1_b': tf.Variable(tf.random_normal([6], stddev=0.1)),\n",
    "        'conv2_b': tf.Variable(tf.random_normal([16], stddev=0.1)),\n",
    "        'fc1_b': tf.Variable(tf.random_normal([120], stddev=0.1)),\n",
    "        'fc2_b': tf.Variable(tf.random_normal([84], stddev=0.1)),\n",
    "        'out_b': tf.Variable(tf.random_normal([10], stddev=0.1))\n",
    "    }\n",
    "\n",
    "  # Model.\n",
    "    def model(data):\n",
    "        \n",
    "        tf.logging.info(\"Data: %s\\n\", data)\n",
    "        #Input 28 * 28 * 1\n",
    "        #First layer \n",
    "        conv1 = tf.nn.conv2d(data, weights['conv1_w'], [1, 1, 1, 1], padding='VALID')\n",
    "        conv1 = tf.nn.relu(conv1 + biases['conv1_b'])\n",
    "        tf.logging.info(\"Conv1: %s\\n\", conv1) # 24 * 24 * 6\n",
    "        #Second layer\n",
    "        avgp_1 = tf.nn.avg_pool(conv1, ksize=[1, 2, 2, 1], strides=[1, 2, 2, 1], padding='VALID')\n",
    "        tf.logging.info(\"avgp_1: %s\\n\", avgp_1) # 12 * 12 * 6\n",
    "        #Third layer\n",
    "        conv2 = tf.nn.conv2d(avgp_1, weights['conv2_w'], [1, 1, 1, 1], padding='VALID')\n",
    "        conv2 = tf.nn.relu(conv2 + biases['conv2_b'])\n",
    "        tf.logging.info(\"conv2: %s\\n\", conv2) # 8 * 8 * 16\n",
    "        #Fouth layer\n",
    "        avgp_2 = tf.nn.avg_pool(conv2, ksize=[1, 2, 2, 1], strides=[1, 2, 2, 1], padding='VALID')\n",
    "        tf.logging.info(\"avgp_2: %s\\n\", avgp_2) # 4 * 4 * 16\n",
    "        avgp_2_flattened = flatten(avgp_2)\n",
    "        tf.logging.info(\"avgp_2_flattened: %s\\n\", avgp_2_flattened) # 1 * 1 * 120\n",
    "        #Fifth layer\n",
    "        fc1 = tf.nn.dropout(tf.nn.relu(tf.matmul(avgp_2_flattened,  weights['fc1_w']) + biases['fc1_b']), keep_prob)\n",
    "        tf.logging.info(\"fc1: %s\\n\", fc1) # 1 * 120\n",
    "        #Sixth layer\n",
    "        fc2 = tf.nn.dropout(tf.nn.relu(tf.matmul(fc1, weights['fc2_w']) + biases['fc2_b']), keep_prob)\n",
    "        tf.logging.info(\"fc2: %s\\n\", fc2) # 1 * 84\n",
    "        \n",
    "        #out layer\n",
    "        out = tf.matmul(fc2, weights['out'])\n",
    "        tf.logging.info(\"out: %s\\n\", out) # 1 * 10\n",
    "\n",
    "        return out\n",
    "\n",
    "    # Training computation.\n",
    "    logits = model(tf_train_dataset)\n",
    "    loss = tf.reduce_mean(\n",
    "    tf.nn.softmax_cross_entropy_with_logits_v2(labels=tf_train_labels, logits=logits))\n",
    "    \n",
    "    # Optimizer.\n",
    "    global_step = tf.Variable(0)  # count the number of steps taken.\n",
    "    learning_rate = tf.train.exponential_decay(0.05, global_step, decay_steps =1000, decay_rate=0.99)\n",
    "    optimizer = tf.train.GradientDescentOptimizer(learning_rate).minimize(loss, global_step=global_step)\n",
    "\n",
    "\n",
    "    # Predictions for the training, validation, and test data.\n",
    "    train_prediction = tf.nn.softmax(logits)\n",
    "    valid_prediction = tf.nn.softmax(model(tf_valid_dataset))\n",
    "    test_prediction = tf.nn.softmax(model(tf_test_dataset))"
   ]
  },
  {
   "cell_type": "code",
   "execution_count": 81,
   "metadata": {},
   "outputs": [
    {
     "name": "stdout",
     "output_type": "stream",
     "text": [
      "Initialized\n",
      "Minibatch loss at step 0: 2.384682\n",
      "Minibatch accuracy: 7.8%\n",
      "Validation accuracy: 9.1%\n",
      "Learning Rate: 0.04999949783086777\n",
      "Minibatch loss at step 1000: 0.488754\n",
      "Minibatch accuracy: 84.4%\n",
      "Validation accuracy: 80.4%\n",
      "Learning Rate: 0.0494995042681694\n",
      "Minibatch loss at step 2000: 0.568053\n",
      "Minibatch accuracy: 85.9%\n",
      "Validation accuracy: 82.8%\n",
      "Learning Rate: 0.049004506319761276\n",
      "Minibatch loss at step 3000: 0.521350\n",
      "Minibatch accuracy: 85.9%\n",
      "Validation accuracy: 84.0%\n",
      "Learning Rate: 0.0485144667327404\n",
      "Minibatch loss at step 4000: 0.693986\n",
      "Minibatch accuracy: 82.8%\n",
      "Validation accuracy: 84.6%\n",
      "Learning Rate: 0.04802931845188141\n",
      "Minibatch loss at step 5000: 0.574507\n",
      "Minibatch accuracy: 81.2%\n",
      "Validation accuracy: 85.8%\n",
      "Learning Rate: 0.04754902422428131\n",
      "Minibatch loss at step 6000: 0.242883\n",
      "Minibatch accuracy: 93.8%\n",
      "Validation accuracy: 86.3%\n",
      "Learning Rate: 0.04707353934645653\n",
      "Minibatch loss at step 7000: 0.510274\n",
      "Minibatch accuracy: 81.2%\n",
      "Validation accuracy: 86.9%\n",
      "Learning Rate: 0.046602800488471985\n",
      "Minibatch loss at step 8000: 0.363100\n",
      "Minibatch accuracy: 90.6%\n",
      "Validation accuracy: 87.0%\n",
      "Learning Rate: 0.046136774122714996\n",
      "Minibatch loss at step 9000: 0.279531\n",
      "Minibatch accuracy: 90.6%\n",
      "Validation accuracy: 87.4%\n",
      "Learning Rate: 0.045675408095121384\n",
      "Minibatch loss at step 10000: 0.251385\n",
      "Minibatch accuracy: 90.6%\n",
      "Validation accuracy: 87.3%\n",
      "Learning Rate: 0.04521865397691727\n",
      "Minibatch loss at step 11000: 0.273708\n",
      "Minibatch accuracy: 92.2%\n",
      "Validation accuracy: 87.4%\n",
      "Learning Rate: 0.044766467064619064\n",
      "Minibatch loss at step 12000: 0.342546\n",
      "Minibatch accuracy: 87.5%\n",
      "Validation accuracy: 88.1%\n",
      "Learning Rate: 0.04431880638003349\n",
      "Minibatch loss at step 13000: 0.505719\n",
      "Minibatch accuracy: 87.5%\n",
      "Validation accuracy: 88.2%\n",
      "Learning Rate: 0.043875616043806076\n",
      "Minibatch loss at step 14000: 0.296663\n",
      "Minibatch accuracy: 92.2%\n",
      "Validation accuracy: 88.3%\n",
      "Learning Rate: 0.04343686252832413\n",
      "Minibatch loss at step 15000: 0.379692\n",
      "Minibatch accuracy: 89.1%\n",
      "Validation accuracy: 88.4%\n",
      "Learning Rate: 0.04300249367952347\n",
      "Minibatch loss at step 16000: 0.534892\n",
      "Minibatch accuracy: 87.5%\n",
      "Validation accuracy: 88.7%\n",
      "Learning Rate: 0.04257246479392052\n",
      "Minibatch loss at step 17000: 0.399519\n",
      "Minibatch accuracy: 90.6%\n",
      "Validation accuracy: 89.0%\n",
      "Learning Rate: 0.04214673861861229\n",
      "Minibatch loss at step 18000: 0.506686\n",
      "Minibatch accuracy: 85.9%\n",
      "Validation accuracy: 88.9%\n",
      "Learning Rate: 0.0417252741754055\n",
      "Minibatch loss at step 19000: 0.297258\n",
      "Minibatch accuracy: 85.9%\n",
      "Validation accuracy: 89.0%\n",
      "Learning Rate: 0.041308023035526276\n",
      "Minibatch loss at step 20000: 0.164240\n",
      "Minibatch accuracy: 95.3%\n",
      "Validation accuracy: 88.8%\n",
      "Learning Rate: 0.040894944220781326\n",
      "Minibatch loss at step 21000: 0.486376\n",
      "Minibatch accuracy: 85.9%\n",
      "Validation accuracy: 89.1%\n",
      "Learning Rate: 0.04048599675297737\n",
      "Minibatch loss at step 22000: 0.198865\n",
      "Minibatch accuracy: 95.3%\n",
      "Validation accuracy: 89.3%\n",
      "Learning Rate: 0.04008113592863083\n",
      "Minibatch loss at step 23000: 0.343302\n",
      "Minibatch accuracy: 90.6%\n",
      "Validation accuracy: 89.4%\n",
      "Learning Rate: 0.03968032822012901\n",
      "Minibatch loss at step 24000: 0.656222\n",
      "Minibatch accuracy: 82.8%\n",
      "Validation accuracy: 89.3%\n",
      "Learning Rate: 0.03928351774811745\n",
      "Minibatch loss at step 25000: 0.419953\n",
      "Minibatch accuracy: 89.1%\n",
      "Validation accuracy: 89.2%\n",
      "Learning Rate: 0.03889068588614464\n",
      "Minibatch loss at step 26000: 0.387320\n",
      "Minibatch accuracy: 89.1%\n",
      "Validation accuracy: 89.3%\n",
      "Learning Rate: 0.03850178048014641\n",
      "Minibatch loss at step 27000: 0.364682\n",
      "Minibatch accuracy: 87.5%\n",
      "Validation accuracy: 89.4%\n",
      "Learning Rate: 0.03811676427721977\n",
      "Minibatch loss at step 28000: 0.503964\n",
      "Minibatch accuracy: 82.8%\n",
      "Validation accuracy: 89.6%\n",
      "Learning Rate: 0.03773559257388115\n",
      "Minibatch loss at step 29000: 0.207564\n",
      "Minibatch accuracy: 93.8%\n",
      "Validation accuracy: 89.5%\n",
      "Learning Rate: 0.03735823929309845\n",
      "Minibatch loss at step 30000: 0.320297\n",
      "Minibatch accuracy: 92.2%\n",
      "Validation accuracy: 89.8%\n",
      "Learning Rate: 0.036984656006097794\n",
      "Minibatch loss at step 31000: 0.447139\n",
      "Minibatch accuracy: 84.4%\n",
      "Validation accuracy: 89.7%\n",
      "Learning Rate: 0.03661481291055679\n",
      "Minibatch loss at step 32000: 0.311754\n",
      "Minibatch accuracy: 87.5%\n",
      "Validation accuracy: 89.8%\n",
      "Learning Rate: 0.03624866530299187\n",
      "Minibatch loss at step 33000: 0.276612\n",
      "Minibatch accuracy: 90.6%\n",
      "Validation accuracy: 89.9%\n",
      "Learning Rate: 0.03588617593050003\n",
      "Minibatch loss at step 34000: 0.241251\n",
      "Minibatch accuracy: 93.8%\n",
      "Validation accuracy: 90.1%\n",
      "Learning Rate: 0.035527314990758896\n",
      "Minibatch loss at step 35000: 0.455826\n",
      "Minibatch accuracy: 89.1%\n",
      "Validation accuracy: 89.9%\n",
      "Learning Rate: 0.03517204150557518\n",
      "Minibatch loss at step 36000: 0.410075\n",
      "Minibatch accuracy: 84.4%\n",
      "Validation accuracy: 89.9%\n",
      "Learning Rate: 0.0348203219473362\n",
      "Minibatch loss at step 37000: 0.300218\n",
      "Minibatch accuracy: 92.2%\n",
      "Validation accuracy: 90.2%\n",
      "Learning Rate: 0.03447211906313896\n",
      "Minibatch loss at step 38000: 0.717303\n",
      "Minibatch accuracy: 81.2%\n",
      "Validation accuracy: 89.9%\n",
      "Learning Rate: 0.03412739932537079\n",
      "Minibatch loss at step 39000: 0.231970\n",
      "Minibatch accuracy: 92.2%\n",
      "Validation accuracy: 90.1%\n",
      "Learning Rate: 0.03378612548112869\n",
      "Minibatch loss at step 40000: 0.386543\n",
      "Minibatch accuracy: 87.5%\n",
      "Validation accuracy: 90.3%\n",
      "Learning Rate: 0.03344826400279999\n",
      "Minibatch loss at step 41000: 0.408305\n",
      "Minibatch accuracy: 85.9%\n",
      "Validation accuracy: 90.0%\n",
      "Learning Rate: 0.03311378136277199\n",
      "Minibatch loss at step 42000: 0.154817\n",
      "Minibatch accuracy: 95.3%\n",
      "Validation accuracy: 90.2%\n",
      "Learning Rate: 0.03278264030814171\n",
      "Minibatch loss at step 43000: 0.214467\n",
      "Minibatch accuracy: 96.9%\n",
      "Validation accuracy: 90.2%\n",
      "Learning Rate: 0.03245481476187706\n",
      "Minibatch loss at step 44000: 0.182858\n",
      "Minibatch accuracy: 95.3%\n",
      "Validation accuracy: 90.1%\n",
      "Learning Rate: 0.03213026747107506\n",
      "Minibatch loss at step 45000: 0.258284\n",
      "Minibatch accuracy: 93.8%\n",
      "Validation accuracy: 90.3%\n",
      "Learning Rate: 0.031808968633413315\n",
      "Minibatch loss at step 46000: 0.308364\n",
      "Minibatch accuracy: 90.6%\n",
      "Validation accuracy: 90.1%\n",
      "Learning Rate: 0.03149087727069855\n",
      "Minibatch loss at step 47000: 0.478528\n",
      "Minibatch accuracy: 90.6%\n",
      "Validation accuracy: 90.3%\n",
      "Learning Rate: 0.031175969168543816\n",
      "Minibatch loss at step 48000: 0.261832\n",
      "Minibatch accuracy: 92.2%\n",
      "Validation accuracy: 90.2%\n",
      "Learning Rate: 0.030864208936691284\n",
      "Minibatch loss at step 49000: 0.390264\n",
      "Minibatch accuracy: 87.5%\n",
      "Validation accuracy: 90.3%\n",
      "Learning Rate: 0.030555566772818565\n",
      "Minibatch loss at step 50000: 0.363442\n",
      "Minibatch accuracy: 89.1%\n",
      "Validation accuracy: 90.3%\n",
      "Learning Rate: 0.03025001287460327\n",
      "Test accuracy: 95.8%\n"
     ]
    }
   ],
   "source": [
    "num_steps = 50501\n",
    "\n",
    "with tf.Session(graph=graph) as session:\n",
    "    tf.global_variables_initializer().run()\n",
    "    print('Initialized')\n",
    "    for step in range(num_steps):\n",
    "        offset = (step * batch_size) % (train_labels.shape[0] - batch_size)\n",
    "        batch_data = train_dataset[offset:(offset + batch_size), :, :, :]\n",
    "        batch_labels = train_labels[offset:(offset + batch_size), :]\n",
    "        feed_dict = {tf_train_dataset : batch_data, tf_train_labels : batch_labels,\n",
    "                    keep_prob: 0.8}\n",
    "        \n",
    "        _, l, predictions = session.run(\n",
    "        [optimizer, loss, train_prediction], feed_dict=feed_dict)\n",
    "        if (step % 1000 == 0):\n",
    "            print('Minibatch loss at step %d: %f' % (step, l))\n",
    "            print('Minibatch accuracy: %.1f%%' % accuracy(predictions, batch_labels))\n",
    "            print('Validation accuracy: %.1f%%' % accuracy(\n",
    "                valid_prediction.eval(feed_dict={keep_prob: 1.0}), valid_labels))\n",
    "            print(\"Learning Rate: {0}\".format(learning_rate.eval()))\n",
    "    print('Test accuracy: %.1f%%' % accuracy(test_prediction.eval(feed_dict={keep_prob: 1.0}), test_labels))"
   ]
  },
  {
   "cell_type": "code",
   "execution_count": null,
   "metadata": {},
   "outputs": [],
   "source": [
    "95.8"
   ]
  }
 ],
 "metadata": {
  "colab": {
   "default_view": {},
   "name": "4_convolutions.ipynb",
   "provenance": [],
   "version": "0.3.2",
   "views": {}
  },
  "kernelspec": {
   "display_name": "Python 3",
   "language": "python",
   "name": "python3"
  },
  "language_info": {
   "codemirror_mode": {
    "name": "ipython",
    "version": 3
   },
   "file_extension": ".py",
   "mimetype": "text/x-python",
   "name": "python",
   "nbconvert_exporter": "python",
   "pygments_lexer": "ipython3",
   "version": "3.6.6"
  }
 },
 "nbformat": 4,
 "nbformat_minor": 1
}
