{
 "cells": [
  {
   "cell_type": "markdown",
   "metadata": {
    "colab_type": "text",
    "id": "5hIbr52I7Z7U"
   },
   "source": [
    "Deep Learning\n",
    "=============\n",
    "\n",
    "Assignment 1\n",
    "------------\n",
    "\n",
    "The objective of this assignment is to learn about simple data curation practices, and familiarize you with some of the data we'll be reusing later.\n",
    "\n",
    "This notebook uses the [notMNIST](http://yaroslavvb.blogspot.com/2011/09/notmnist-dataset.html) dataset to be used with python experiments. This dataset is designed to look like the classic [MNIST](http://yann.lecun.com/exdb/mnist/) dataset, while looking a little more like real data: it's a harder task, and the data is a lot less 'clean' than MNIST."
   ]
  },
  {
   "cell_type": "code",
   "execution_count": 1,
   "metadata": {
    "cellView": "both",
    "colab": {
     "autoexec": {
      "startup": false,
      "wait_interval": 0
     }
    },
    "colab_type": "code",
    "id": "apJbCsBHl-2A"
   },
   "outputs": [],
   "source": [
    "# These are all the modules we'll be using later. Make sure you can import them\n",
    "# before proceeding further.\n",
    "from __future__ import print_function\n",
    "import imageio\n",
    "import matplotlib.pyplot as plt\n",
    "import numpy as np\n",
    "import os\n",
    "import sys\n",
    "import tarfile\n",
    "from IPython.display import display, Image\n",
    "from sklearn.linear_model import LogisticRegression\n",
    "from six.moves.urllib.request import urlretrieve\n",
    "from six.moves import cPickle as pickle\n",
    "\n",
    "# Config the matplotlib backend as plotting inline in IPython\n",
    "%matplotlib inline"
   ]
  },
  {
   "cell_type": "code",
   "execution_count": 2,
   "metadata": {},
   "outputs": [],
   "source": [
    "import random\n"
   ]
  },
  {
   "cell_type": "markdown",
   "metadata": {
    "colab_type": "text",
    "id": "jNWGtZaXn-5j"
   },
   "source": [
    "First, we'll download the dataset to our local machine. The data consists of characters rendered in a variety of fonts on a 28x28 image. The labels are limited to 'A' through 'J' (10 classes). The training set has about 500k and the testset 19000 labeled examples. Given these sizes, it should be possible to train models quickly on any machine."
   ]
  },
  {
   "cell_type": "code",
   "execution_count": 5,
   "metadata": {
    "cellView": "both",
    "colab": {
     "autoexec": {
      "startup": false,
      "wait_interval": 0
     },
     "output_extras": [
      {
       "item_id": 1
      }
     ]
    },
    "colab_type": "code",
    "executionInfo": {
     "elapsed": 186058,
     "status": "ok",
     "timestamp": 1444485672507,
     "user": {
      "color": "#1FA15D",
      "displayName": "Vincent Vanhoucke",
      "isAnonymous": false,
      "isMe": true,
      "permissionId": "05076109866853157986",
      "photoUrl": "//lh6.googleusercontent.com/-cCJa7dTDcgQ/AAAAAAAAAAI/AAAAAAAACgw/r2EZ_8oYer4/s50-c-k-no/photo.jpg",
      "sessionId": "2a0a5e044bb03b66",
      "userId": "102167687554210253930"
     },
     "user_tz": 420
    },
    "id": "EYRJ4ICW6-da",
    "outputId": "0d0f85df-155f-4a89-8e7e-ee32df36ec8d"
   },
   "outputs": [
    {
     "name": "stdout",
     "output_type": "stream",
     "text": [
      "Found and verified .\\notMNIST_large.tar.gz\n",
      "Found and verified .\\notMNIST_small.tar.gz\n"
     ]
    }
   ],
   "source": [
    "url = 'https://commondatastorage.googleapis.com/books1000/'\n",
    "last_percent_reported = None\n",
    "data_root = '.' # Change me to store data elsewhere\n",
    "\n",
    "def download_progress_hook(count, blockSize, totalSize):\n",
    "  \"\"\"A hook to report the progress of a download. This is mostly intended for users with\n",
    "  slow internet connections. Reports every 5% change in download progress.\n",
    "  \"\"\"\n",
    "  global last_percent_reported\n",
    "  percent = int(count * blockSize * 100 / totalSize)\n",
    "\n",
    "  if last_percent_reported != percent:\n",
    "    if percent % 5 == 0:\n",
    "      sys.stdout.write(\"%s%%\" % percent)\n",
    "      sys.stdout.flush()\n",
    "    else:\n",
    "      sys.stdout.write(\".\")\n",
    "      sys.stdout.flush()\n",
    "      \n",
    "    last_percent_reported = percent\n",
    "        \n",
    "def maybe_download(filename, expected_bytes, force=False):\n",
    "  \"\"\"Download a file if not present, and make sure it's the right size.\"\"\"\n",
    "  dest_filename = os.path.join(data_root, filename)\n",
    "  if force or not os.path.exists(dest_filename):\n",
    "    print('Attempting to download:', filename) \n",
    "    filename, _ = urlretrieve(url + filename, dest_filename, reporthook=download_progress_hook)\n",
    "    print('\\nDownload Complete!')\n",
    "  statinfo = os.stat(dest_filename)\n",
    "  if statinfo.st_size == expected_bytes:\n",
    "    print('Found and verified', dest_filename)\n",
    "  else:\n",
    "    raise Exception(\n",
    "      'Failed to verify ' + dest_filename + '. Can you get to it with a browser?')\n",
    "  return dest_filename\n",
    "\n",
    "train_filename = maybe_download('notMNIST_large.tar.gz', 247336696)\n",
    "test_filename = maybe_download('notMNIST_small.tar.gz', 8458043)"
   ]
  },
  {
   "cell_type": "markdown",
   "metadata": {
    "colab_type": "text",
    "id": "cC3p0oEyF8QT"
   },
   "source": [
    "Extract the dataset from the compressed .tar.gz file.\n",
    "This should give you a set of directories, labeled A through J."
   ]
  },
  {
   "cell_type": "code",
   "execution_count": 34,
   "metadata": {
    "cellView": "both",
    "colab": {
     "autoexec": {
      "startup": false,
      "wait_interval": 0
     },
     "output_extras": [
      {
       "item_id": 1
      }
     ]
    },
    "colab_type": "code",
    "executionInfo": {
     "elapsed": 186055,
     "status": "ok",
     "timestamp": 1444485672525,
     "user": {
      "color": "#1FA15D",
      "displayName": "Vincent Vanhoucke",
      "isAnonymous": false,
      "isMe": true,
      "permissionId": "05076109866853157986",
      "photoUrl": "//lh6.googleusercontent.com/-cCJa7dTDcgQ/AAAAAAAAAAI/AAAAAAAACgw/r2EZ_8oYer4/s50-c-k-no/photo.jpg",
      "sessionId": "2a0a5e044bb03b66",
      "userId": "102167687554210253930"
     },
     "user_tz": 420
    },
    "id": "H8CBE-WZ8nmj",
    "outputId": "ef6c790c-2513-4b09-962e-27c79390c762"
   },
   "outputs": [
    {
     "name": "stdout",
     "output_type": "stream",
     "text": [
      ".\\notMNIST_large already present - Skipping extraction of .\\notMNIST_large.tar.gz.\n",
      "['.\\\\notMNIST_large\\\\A', '.\\\\notMNIST_large\\\\B', '.\\\\notMNIST_large\\\\C', '.\\\\notMNIST_large\\\\D', '.\\\\notMNIST_large\\\\E', '.\\\\notMNIST_large\\\\F', '.\\\\notMNIST_large\\\\G', '.\\\\notMNIST_large\\\\H', '.\\\\notMNIST_large\\\\I', '.\\\\notMNIST_large\\\\J']\n",
      ".\\notMNIST_small already present - Skipping extraction of .\\notMNIST_small.tar.gz.\n",
      "['.\\\\notMNIST_small\\\\A', '.\\\\notMNIST_small\\\\B', '.\\\\notMNIST_small\\\\C', '.\\\\notMNIST_small\\\\D', '.\\\\notMNIST_small\\\\E', '.\\\\notMNIST_small\\\\F', '.\\\\notMNIST_small\\\\G', '.\\\\notMNIST_small\\\\H', '.\\\\notMNIST_small\\\\I', '.\\\\notMNIST_small\\\\J']\n"
     ]
    }
   ],
   "source": [
    "num_classes = 10\n",
    "np.random.seed(133)\n",
    "\n",
    "def maybe_extract(filename, force=False):\n",
    "  root = os.path.splitext(os.path.splitext(filename)[0])[0]  # remove .tar.gz\n",
    "  if os.path.isdir(root) and not force:\n",
    "    # You may override by setting force=True.\n",
    "    print('%s already present - Skipping extraction of %s.' % (root, filename))\n",
    "  else:\n",
    "    print('Extracting data for %s. This may take a while. Please wait.' % root)\n",
    "    tar = tarfile.open(filename)\n",
    "    sys.stdout.flush()\n",
    "    tar.extractall(data_root)\n",
    "    tar.close()\n",
    "  data_folders = [\n",
    "    os.path.join(root, d) for d in sorted(os.listdir(root))\n",
    "    if os.path.isdir(os.path.join(root, d))]\n",
    "  if len(data_folders) != num_classes:\n",
    "    raise Exception(\n",
    "      'Expected %d folders, one per class. Found %d instead.' % (\n",
    "        num_classes, len(data_folders)))\n",
    "  print(data_folders)\n",
    "  return data_folders\n",
    "  \n",
    "train_folders = maybe_extract(train_filename)\n",
    "test_folders = maybe_extract(test_filename)"
   ]
  },
  {
   "cell_type": "markdown",
   "metadata": {
    "colab_type": "text",
    "id": "4riXK3IoHgx6"
   },
   "source": [
    "---\n",
    "Problem 1\n",
    "---------\n",
    "\n",
    "Let's take a peek at some of the data to make sure it looks sensible. Each exemplar should be an image of a character A through J rendered in a different font. Display a sample of the images that we just downloaded. Hint: you can use the package IPython.display.\n",
    "\n",
    "---"
   ]
  },
  {
   "cell_type": "code",
   "execution_count": 6,
   "metadata": {},
   "outputs": [],
   "source": [
    "def load_sample(folder, sample_size):\n",
    "  image_files = os.listdir(folder)\n",
    "  for i in range(0, sample_size):\n",
    "       display(Image (os.path.join(folder, random.choice(image_files))))"
   ]
  },
  {
   "cell_type": "code",
   "execution_count": 136,
   "metadata": {},
   "outputs": [],
   "source": [
    "def print_one(reshaped_array):\n",
    "    reshaped_array = reshaped_array.reshape(28, 28)\n",
    "    plt.imshow(reshaped_array)"
   ]
  },
  {
   "cell_type": "code",
   "execution_count": 7,
   "metadata": {},
   "outputs": [
    {
     "data": {
      "image/png": "[encoded data removed]",
      "text/plain": [
       "<IPython.core.display.Image object>"
      ]
     },
     "metadata": {},
     "output_type": "display_data"
    },
    {
     "data": {
      "image/png": "[encoded data removed]",
      "text/plain": [
       "<IPython.core.display.Image object>"
      ]
     },
     "metadata": {},
     "output_type": "display_data"
    },
    {
     "data": {
      "image/png": "[encoded data removed]",
      "text/plain": [
       "<IPython.core.display.Image object>"
      ]
     },
     "metadata": {},
     "output_type": "display_data"
    }
   ],
   "source": [
    "load_sample(os.path.join(data_root, 'notMNIST_small', 'J'), 3)"
   ]
  },
  {
   "cell_type": "markdown",
   "metadata": {
    "colab_type": "text",
    "id": "PBdkjESPK8tw"
   },
   "source": [
    "Now let's load the data in a more manageable format. Since, depending on your computer setup you might not be able to fit it all in memory, we'll load each class into a separate dataset, store them on disk and curate them independently. Later we'll merge them into a single dataset of manageable size.\n",
    "\n",
    "We'll convert the entire dataset into a 3D array (image index, x, y) of floating point values, normalized to have approximately zero mean and standard deviation ~0.5 to make training easier down the road. \n",
    "\n",
    "A few images might not be readable, we'll just skip them."
   ]
  },
  {
   "cell_type": "code",
   "execution_count": 30,
   "metadata": {},
   "outputs": [
    {
     "name": "stdout",
     "output_type": "stream",
     "text": [
      "(28, 28)\n"
     ]
    }
   ],
   "source": [
    "dot = np.ones(shape=(1, 28, 28 ),\n",
    "                         dtype=np.float32) #uint8 float32\n",
    "image_file = os.path.join(data_root, 'g.png')\n",
    "\n",
    "img_data = imageio.imread(image_file).astype(float)\n",
    "print(img_data.shape)\n",
    "dot[0, :, :] = img_data"
   ]
  },
  {
   "cell_type": "code",
   "execution_count": 35,
   "metadata": {
    "cellView": "both",
    "colab": {
     "autoexec": {
      "startup": false,
      "wait_interval": 0
     },
     "output_extras": [
      {
       "item_id": 30
      }
     ]
    },
    "colab_type": "code",
    "executionInfo": {
     "elapsed": 399874,
     "status": "ok",
     "timestamp": 1444485886378,
     "user": {
      "color": "#1FA15D",
      "displayName": "Vincent Vanhoucke",
      "isAnonymous": false,
      "isMe": true,
      "permissionId": "05076109866853157986",
      "photoUrl": "//lh6.googleusercontent.com/-cCJa7dTDcgQ/AAAAAAAAAAI/AAAAAAAACgw/r2EZ_8oYer4/s50-c-k-no/photo.jpg",
      "sessionId": "2a0a5e044bb03b66",
      "userId": "102167687554210253930"
     },
     "user_tz": 420
    },
    "id": "h7q0XhG3MJdf",
    "outputId": "92c391bb-86ff-431d-9ada-315568a19e59",
    "scrolled": true
   },
   "outputs": [
    {
     "name": "stdout",
     "output_type": "stream",
     "text": [
      ".\\notMNIST_large\\A.pickle already present - Skipping pickling.\n",
      ".\\notMNIST_large\\B.pickle already present - Skipping pickling.\n",
      ".\\notMNIST_large\\C.pickle already present - Skipping pickling.\n",
      ".\\notMNIST_large\\D.pickle already present - Skipping pickling.\n",
      ".\\notMNIST_large\\E.pickle already present - Skipping pickling.\n",
      ".\\notMNIST_large\\F.pickle already present - Skipping pickling.\n",
      ".\\notMNIST_large\\G.pickle already present - Skipping pickling.\n",
      ".\\notMNIST_large\\H.pickle already present - Skipping pickling.\n",
      ".\\notMNIST_large\\I.pickle already present - Skipping pickling.\n",
      ".\\notMNIST_large\\J.pickle already present - Skipping pickling.\n",
      ".\\notMNIST_small\\A.pickle already present - Skipping pickling.\n",
      ".\\notMNIST_small\\B.pickle already present - Skipping pickling.\n",
      ".\\notMNIST_small\\C.pickle already present - Skipping pickling.\n",
      ".\\notMNIST_small\\D.pickle already present - Skipping pickling.\n",
      ".\\notMNIST_small\\E.pickle already present - Skipping pickling.\n",
      ".\\notMNIST_small\\F.pickle already present - Skipping pickling.\n",
      ".\\notMNIST_small\\G.pickle already present - Skipping pickling.\n",
      ".\\notMNIST_small\\H.pickle already present - Skipping pickling.\n",
      ".\\notMNIST_small\\I.pickle already present - Skipping pickling.\n",
      ".\\notMNIST_small\\J.pickle already present - Skipping pickling.\n"
     ]
    }
   ],
   "source": [
    "image_size = 28  # Pixel width and height.\n",
    "pixel_depth = 255.0  # Number of levels per pixel.\n",
    "\n",
    "def load_letter(folder, min_num_images):\n",
    "  \"\"\"Load the data for a single letter label.\"\"\"\n",
    "  image_files = os.listdir(folder)\n",
    "  dataset = np.ndarray(shape=(len(image_files), image_size, image_size),\n",
    "                         dtype=np.float32)\n",
    "  print(folder)\n",
    "  num_images = 0\n",
    "  for image in image_files:\n",
    "    image_file = os.path.join(folder, image)\n",
    "    try:\n",
    "      image_data = (imageio.imread(image_file).astype(float) - \n",
    "                    pixel_depth / 2) / pixel_depth\n",
    "      if image_data.shape != (image_size, image_size):\n",
    "        raise Exception('Unexpected image shape: %s' % str(image_data.shape))\n",
    "      dataset[num_images, :, :] = image_data\n",
    "      num_images = num_images + 1\n",
    "    except (IOError, ValueError) as e:\n",
    "      print('Could not read:', image_file, ':', e, '- it\\'s ok, skipping.')\n",
    "    \n",
    "  dataset = dataset[0:num_images, :, :]\n",
    "  if num_images < min_num_images:\n",
    "    raise Exception('Many fewer images than expected: %d < %d' %\n",
    "                    (num_images, min_num_images))\n",
    "    \n",
    "  print('Full dataset tensor:', dataset.shape)\n",
    "  print('Mean:', np.mean(dataset))\n",
    "  print('Standard deviation:', np.std(dataset))\n",
    "  return dataset\n",
    "        \n",
    "def maybe_pickle(data_folders, min_num_images_per_class, force=False):\n",
    "  dataset_names = []\n",
    "  for folder in data_folders:\n",
    "    set_filename = folder + '.pickle'\n",
    "    dataset_names.append(set_filename)\n",
    "    if os.path.exists(set_filename) and not force:\n",
    "      # You may override by setting force=True.\n",
    "      print('%s already present - Skipping pickling.' % set_filename)\n",
    "    else:\n",
    "      print('Pickling %s.' % set_filename)\n",
    "      dataset = load_letter(folder, min_num_images_per_class)\n",
    "      try:\n",
    "        with open(set_filename, 'wb') as f:\n",
    "          pickle.dump(dataset, f, pickle.HIGHEST_PROTOCOL)\n",
    "      except Exception as e:\n",
    "        print('Unable to save data to', set_filename, ':', e)\n",
    "  \n",
    "  return dataset_names\n",
    "\n",
    "train_datasets = maybe_pickle(train_folders, 45000)\n",
    "test_datasets = maybe_pickle(test_folders, 1800)"
   ]
  },
  {
   "cell_type": "markdown",
   "metadata": {
    "colab_type": "text",
    "id": "vUdbskYE2d87"
   },
   "source": [
    "---\n",
    "Problem 2\n",
    "---------\n",
    "\n",
    "Let's verify that the data still looks good. Displaying a sample of the labels and images from the ndarray. Hint: you can use matplotlib.pyplot.\n",
    "\n",
    "---"
   ]
  },
  {
   "cell_type": "code",
   "execution_count": 31,
   "metadata": {},
   "outputs": [
    {
     "ename": "NameError",
     "evalue": "name 't' is not defined",
     "output_type": "error",
     "traceback": [
      "\u001b[1;31m---------------------------------------------------------------------------\u001b[0m",
      "\u001b[1;31mNameError\u001b[0m                                 Traceback (most recent call last)",
      "\u001b[1;32m<ipython-input-31-9c3cbc34b185>\u001b[0m in \u001b[0;36m<module>\u001b[1;34m\u001b[0m\n\u001b[1;32m----> 1\u001b[1;33m \u001b[0mplt\u001b[0m\u001b[1;33m.\u001b[0m\u001b[0mimshow\u001b[0m\u001b[1;33m(\u001b[0m\u001b[0mt\u001b[0m\u001b[1;33m[\u001b[0m\u001b[1;36m100\u001b[0m\u001b[1;33m]\u001b[0m\u001b[1;33m)\u001b[0m\u001b[1;33m\u001b[0m\u001b[0m\n\u001b[0m",
      "\u001b[1;31mNameError\u001b[0m: name 't' is not defined"
     ]
    }
   ],
   "source": [
    "plt.imshow(t[100])"
   ]
  },
  {
   "cell_type": "markdown",
   "metadata": {
    "colab_type": "text",
    "id": "cYznx5jUwzoO"
   },
   "source": [
    "---\n",
    "Problem 3\n",
    "---------\n",
    "Another check: we expect the data to be balanced across classes. Verify that.\n",
    "\n",
    "---"
   ]
  },
  {
   "cell_type": "code",
   "execution_count": 43,
   "metadata": {},
   "outputs": [
    {
     "name": "stdout",
     "output_type": "stream",
     "text": [
      "Train Dataset\n",
      "0.09999546411548361\n",
      "0.09999924401924727\n",
      "0.1000011339711291\n",
      "0.09999924401924727\n",
      "0.1000011339711291\n",
      "0.1000011339711291\n",
      "0.1000011339711291\n",
      "0.1000011339711291\n",
      "0.1000011339711291\n",
      "Test Dataset\n",
      "0.09657782045057116\n",
      "0.0965814711648334\n",
      "0.09658329652196453\n",
      "0.0965814711648334\n",
      "0.09658329652196453\n",
      "0.09658329652196453\n",
      "0.09658329652196453\n",
      "0.09658329652196453\n",
      "0.09658329652196453\n",
      "0.0965814711648334\n",
      "0.0034170685494617024\n",
      "0.003418893906592825\n",
      "0.003418893906592825\n",
      "0.003418893906592825\n",
      "0.003418893906592825\n",
      "0.0034170685494617024\n",
      "0.0034170685494617024\n",
      "0.0034170685494617024\n",
      "0.0034170685494617024\n"
     ]
    }
   ],
   "source": [
    "each_dataset = []\n",
    "total = 0\n",
    "print('Train Dataset')\n",
    "for dataset in train_datasets:\n",
    "    tmp = pickle.load (open (dataset, 'rb'))\n",
    "    each_dataset.append(len(tmp))\n",
    "    total = total + len(tmp)\n",
    "\n",
    "\n",
    "\n",
    "for i in range(0, len(each_dataset)-1):\n",
    "    print(each_dataset[i]/total)\n",
    "\n",
    "\n",
    "\n",
    "print('Test Dataset')\n",
    "for dataset in test_datasets:\n",
    "    tmp = pickle.load (open (dataset, 'rb'))\n",
    "    each_dataset.append(len(tmp))\n",
    "    total = total + len(tmp)\n",
    "\n",
    "for i in range(0, len(each_dataset)-1):\n",
    "    print(each_dataset[i]/total)\n",
    "\n",
    "    "
   ]
  },
  {
   "cell_type": "markdown",
   "metadata": {
    "colab_type": "text",
    "id": "LA7M7K22ynCt"
   },
   "source": [
    "Merge and prune the training data as needed. Depending on your computer setup, you might not be able to fit it all in memory, and you can tune `train_size` as needed. The labels will be stored into a separate array of integers 0 through 9.\n",
    "\n",
    "Also create a validation dataset for hyperparameter tuning."
   ]
  },
  {
   "cell_type": "code",
   "execution_count": 53,
   "metadata": {
    "cellView": "both",
    "colab": {
     "autoexec": {
      "startup": false,
      "wait_interval": 0
     },
     "output_extras": [
      {
       "item_id": 1
      }
     ]
    },
    "colab_type": "code",
    "executionInfo": {
     "elapsed": 411281,
     "status": "ok",
     "timestamp": 1444485897869,
     "user": {
      "color": "#1FA15D",
      "displayName": "Vincent Vanhoucke",
      "isAnonymous": false,
      "isMe": true,
      "permissionId": "05076109866853157986",
      "photoUrl": "//lh6.googleusercontent.com/-cCJa7dTDcgQ/AAAAAAAAAAI/AAAAAAAACgw/r2EZ_8oYer4/s50-c-k-no/photo.jpg",
      "sessionId": "2a0a5e044bb03b66",
      "userId": "102167687554210253930"
     },
     "user_tz": 420
    },
    "id": "s3mWgZLpyuzq",
    "outputId": "8af66da6-902d-4719-bedc-7c9fb7ae7948"
   },
   "outputs": [
    {
     "name": "stdout",
     "output_type": "stream",
     "text": [
      "Training: (200000, 28, 28) (200000,)\n",
      "Validation: (10000, 28, 28) (10000,)\n",
      "Testing: (10000, 28, 28) (10000,)\n"
     ]
    }
   ],
   "source": [
    "def make_arrays(nb_rows, img_size):\n",
    "  if nb_rows:\n",
    "    dataset = np.ndarray((nb_rows, img_size, img_size), dtype=np.float32)\n",
    "    labels = np.ndarray(nb_rows, dtype=np.int32)\n",
    "  else:\n",
    "    dataset, labels = None, None\n",
    "  return dataset, labels\n",
    "\n",
    "def merge_datasets(pickle_files, train_size, valid_size=0):\n",
    "  num_classes = len(pickle_files)\n",
    "  valid_dataset, valid_labels = make_arrays(valid_size, image_size)\n",
    "  train_dataset, train_labels = make_arrays(train_size, image_size)\n",
    "  vsize_per_class = valid_size // num_classes\n",
    "  tsize_per_class = train_size // num_classes\n",
    "    \n",
    "  start_v, start_t = 0, 0\n",
    "  end_v, end_t = vsize_per_class, tsize_per_class\n",
    "  end_l = vsize_per_class+tsize_per_class\n",
    "  for label, pickle_file in enumerate(pickle_files):       \n",
    "    try:\n",
    "      with open(pickle_file, 'rb') as f:\n",
    "        letter_set = pickle.load(f)\n",
    "        # let's shuffle the letters to have random validation and training set\n",
    "        np.random.shuffle(letter_set)\n",
    "        if valid_dataset is not None:\n",
    "          valid_letter = letter_set[:vsize_per_class, :, :]\n",
    "          valid_dataset[start_v:end_v, :, :] = valid_letter\n",
    "          valid_labels[start_v:end_v] = label\n",
    "          start_v += vsize_per_class\n",
    "          end_v += vsize_per_class\n",
    "                    \n",
    "        train_letter = letter_set[vsize_per_class:end_l, :, :]\n",
    "        train_dataset[start_t:end_t, :, :] = train_letter\n",
    "        train_labels[start_t:end_t] = label\n",
    "        start_t += tsize_per_class\n",
    "        end_t += tsize_per_class\n",
    "    except Exception as e:\n",
    "      print('Unable to process data from', pickle_file, ':', e)\n",
    "      raise\n",
    "    \n",
    "  return valid_dataset, valid_labels, train_dataset, train_labels\n",
    "            \n",
    "            \n",
    "train_size = 200000\n",
    "valid_size = 10000\n",
    "test_size = 10000\n",
    "\n",
    "valid_dataset, valid_labels, train_dataset, train_labels = merge_datasets(\n",
    "  train_datasets, train_size, valid_size)\n",
    "_, _, test_dataset, test_labels = merge_datasets(test_datasets, test_size)\n",
    "\n",
    "print('Training:', train_dataset.shape, train_labels.shape)\n",
    "print('Validation:', valid_dataset.shape, valid_labels.shape)\n",
    "print('Testing:', test_dataset.shape, test_labels.shape)"
   ]
  },
  {
   "cell_type": "code",
   "execution_count": 56,
   "metadata": {},
   "outputs": [
    {
     "data": {
      "text/plain": [
       "array([[-0.5       , -0.5       , -0.5       , -0.5       , -0.5       ,\n",
       "        -0.5       , -0.5       , -0.5       , -0.5       , -0.5       ,\n",
       "        -0.5       , -0.5       , -0.5       , -0.5       , -0.5       ,\n",
       "        -0.4882353 , -0.5       ,  0.0254902 ,  0.46078432,  0.39803922,\n",
       "         0.40980393,  0.40980393,  0.40980393,  0.40588236,  0.42156863,\n",
       "         0.36666667, -0.4372549 , -0.5       ]], dtype=float32)"
      ]
     },
     "execution_count": 56,
     "metadata": {},
     "output_type": "execute_result"
    }
   ],
   "source": [
    "train_dataset[0, 0:1, :]"
   ]
  },
  {
   "cell_type": "markdown",
   "metadata": {
    "colab_type": "text",
    "id": "GPTCnjIcyuKN"
   },
   "source": [
    "Next, we'll randomize the data. It's important to have the labels well shuffled for the training and test distributions to match."
   ]
  },
  {
   "cell_type": "code",
   "execution_count": 57,
   "metadata": {
    "cellView": "both",
    "colab": {
     "autoexec": {
      "startup": false,
      "wait_interval": 0
     }
    },
    "colab_type": "code",
    "id": "6WZ2l2tN2zOL"
   },
   "outputs": [],
   "source": [
    "def randomize(dataset, labels):\n",
    "  permutation = np.random.permutation(labels.shape[0])\n",
    "  shuffled_dataset = dataset[permutation,:,:]\n",
    "  shuffled_labels = labels[permutation]\n",
    "  return shuffled_dataset, shuffled_labels\n",
    "train_dataset, train_labels = randomize(train_dataset, train_labels)\n",
    "test_dataset, test_labels = randomize(test_dataset, test_labels)\n",
    "valid_dataset, valid_labels = randomize(valid_dataset, valid_labels)"
   ]
  },
  {
   "cell_type": "markdown",
   "metadata": {
    "colab_type": "text",
    "id": "puDUTe6t6USl"
   },
   "source": [
    "---\n",
    "Problem 4\n",
    "---------\n",
    "Convince yourself that the data is still good after shuffling!\n",
    "\n",
    "---"
   ]
  },
  {
   "cell_type": "code",
   "execution_count": 82,
   "metadata": {},
   "outputs": [
    {
     "ename": "TypeError",
     "evalue": "Invalid dimensions for image data",
     "output_type": "error",
     "traceback": [
      "\u001b[1;31m---------------------------------------------------------------------------\u001b[0m",
      "\u001b[1;31mTypeError\u001b[0m                                 Traceback (most recent call last)",
      "\u001b[1;32m<ipython-input-82-c604cf0596b3>\u001b[0m in \u001b[0;36m<module>\u001b[1;34m\u001b[0m\n\u001b[1;32m----> 1\u001b[1;33m \u001b[0mplt\u001b[0m\u001b[1;33m.\u001b[0m\u001b[0mimshow\u001b[0m\u001b[1;33m(\u001b[0m\u001b[0mtrain_dataset\u001b[0m\u001b[1;33m[\u001b[0m\u001b[1;36m0\u001b[0m\u001b[1;33m,\u001b[0m \u001b[1;36m0\u001b[0m\u001b[1;33m:\u001b[0m\u001b[1;36m1\u001b[0m\u001b[1;33m]\u001b[0m\u001b[1;33m)\u001b[0m\u001b[1;33m\u001b[0m\u001b[0m\n\u001b[0m",
      "\u001b[1;32m~\\Anaconda3\\envs\\schoolofai\\lib\\site-packages\\matplotlib\\pyplot.py\u001b[0m in \u001b[0;36mimshow\u001b[1;34m(X, cmap, norm, aspect, interpolation, alpha, vmin, vmax, origin, extent, shape, filternorm, filterrad, imlim, resample, url, data, **kwargs)\u001b[0m\n\u001b[0;32m   2699\u001b[0m         \u001b[0mfilternorm\u001b[0m\u001b[1;33m=\u001b[0m\u001b[0mfilternorm\u001b[0m\u001b[1;33m,\u001b[0m \u001b[0mfilterrad\u001b[0m\u001b[1;33m=\u001b[0m\u001b[0mfilterrad\u001b[0m\u001b[1;33m,\u001b[0m \u001b[0mimlim\u001b[0m\u001b[1;33m=\u001b[0m\u001b[0mimlim\u001b[0m\u001b[1;33m,\u001b[0m\u001b[1;33m\u001b[0m\u001b[0m\n\u001b[0;32m   2700\u001b[0m         resample=resample, url=url, **({\"data\": data} if data is not\n\u001b[1;32m-> 2701\u001b[1;33m         None else {}), **kwargs)\n\u001b[0m\u001b[0;32m   2702\u001b[0m     \u001b[0msci\u001b[0m\u001b[1;33m(\u001b[0m\u001b[0m__ret\u001b[0m\u001b[1;33m)\u001b[0m\u001b[1;33m\u001b[0m\u001b[0m\n\u001b[0;32m   2703\u001b[0m     \u001b[1;32mreturn\u001b[0m \u001b[0m__ret\u001b[0m\u001b[1;33m\u001b[0m\u001b[0m\n",
      "\u001b[1;32m~\\Anaconda3\\envs\\schoolofai\\lib\\site-packages\\matplotlib\\__init__.py\u001b[0m in \u001b[0;36minner\u001b[1;34m(ax, data, *args, **kwargs)\u001b[0m\n\u001b[0;32m   1808\u001b[0m                         \u001b[1;34m\"the Matplotlib list!)\"\u001b[0m \u001b[1;33m%\u001b[0m \u001b[1;33m(\u001b[0m\u001b[0mlabel_namer\u001b[0m\u001b[1;33m,\u001b[0m \u001b[0mfunc\u001b[0m\u001b[1;33m.\u001b[0m\u001b[0m__name__\u001b[0m\u001b[1;33m)\u001b[0m\u001b[1;33m,\u001b[0m\u001b[1;33m\u001b[0m\u001b[0m\n\u001b[0;32m   1809\u001b[0m                         RuntimeWarning, stacklevel=2)\n\u001b[1;32m-> 1810\u001b[1;33m             \u001b[1;32mreturn\u001b[0m \u001b[0mfunc\u001b[0m\u001b[1;33m(\u001b[0m\u001b[0max\u001b[0m\u001b[1;33m,\u001b[0m \u001b[1;33m*\u001b[0m\u001b[0margs\u001b[0m\u001b[1;33m,\u001b[0m \u001b[1;33m**\u001b[0m\u001b[0mkwargs\u001b[0m\u001b[1;33m)\u001b[0m\u001b[1;33m\u001b[0m\u001b[0m\n\u001b[0m\u001b[0;32m   1811\u001b[0m \u001b[1;33m\u001b[0m\u001b[0m\n\u001b[0;32m   1812\u001b[0m         inner.__doc__ = _add_data_doc(inner.__doc__,\n",
      "\u001b[1;32m~\\Anaconda3\\envs\\schoolofai\\lib\\site-packages\\matplotlib\\axes\\_axes.py\u001b[0m in \u001b[0;36mimshow\u001b[1;34m(self, X, cmap, norm, aspect, interpolation, alpha, vmin, vmax, origin, extent, shape, filternorm, filterrad, imlim, resample, url, **kwargs)\u001b[0m\n\u001b[0;32m   5492\u001b[0m                               resample=resample, **kwargs)\n\u001b[0;32m   5493\u001b[0m \u001b[1;33m\u001b[0m\u001b[0m\n\u001b[1;32m-> 5494\u001b[1;33m         \u001b[0mim\u001b[0m\u001b[1;33m.\u001b[0m\u001b[0mset_data\u001b[0m\u001b[1;33m(\u001b[0m\u001b[0mX\u001b[0m\u001b[1;33m)\u001b[0m\u001b[1;33m\u001b[0m\u001b[0m\n\u001b[0m\u001b[0;32m   5495\u001b[0m         \u001b[0mim\u001b[0m\u001b[1;33m.\u001b[0m\u001b[0mset_alpha\u001b[0m\u001b[1;33m(\u001b[0m\u001b[0malpha\u001b[0m\u001b[1;33m)\u001b[0m\u001b[1;33m\u001b[0m\u001b[0m\n\u001b[0;32m   5496\u001b[0m         \u001b[1;32mif\u001b[0m \u001b[0mim\u001b[0m\u001b[1;33m.\u001b[0m\u001b[0mget_clip_path\u001b[0m\u001b[1;33m(\u001b[0m\u001b[1;33m)\u001b[0m \u001b[1;32mis\u001b[0m \u001b[1;32mNone\u001b[0m\u001b[1;33m:\u001b[0m\u001b[1;33m\u001b[0m\u001b[0m\n",
      "\u001b[1;32m~\\Anaconda3\\envs\\schoolofai\\lib\\site-packages\\matplotlib\\image.py\u001b[0m in \u001b[0;36mset_data\u001b[1;34m(self, A)\u001b[0m\n\u001b[0;32m    644\u001b[0m         if not (self._A.ndim == 2\n\u001b[0;32m    645\u001b[0m                 or self._A.ndim == 3 and self._A.shape[-1] in [3, 4]):\n\u001b[1;32m--> 646\u001b[1;33m             \u001b[1;32mraise\u001b[0m \u001b[0mTypeError\u001b[0m\u001b[1;33m(\u001b[0m\u001b[1;34m\"Invalid dimensions for image data\"\u001b[0m\u001b[1;33m)\u001b[0m\u001b[1;33m\u001b[0m\u001b[0m\n\u001b[0m\u001b[0;32m    647\u001b[0m \u001b[1;33m\u001b[0m\u001b[0m\n\u001b[0;32m    648\u001b[0m         \u001b[1;32mif\u001b[0m \u001b[0mself\u001b[0m\u001b[1;33m.\u001b[0m\u001b[0m_A\u001b[0m\u001b[1;33m.\u001b[0m\u001b[0mndim\u001b[0m \u001b[1;33m==\u001b[0m \u001b[1;36m3\u001b[0m\u001b[1;33m:\u001b[0m\u001b[1;33m\u001b[0m\u001b[0m\n",
      "\u001b[1;31mTypeError\u001b[0m: Invalid dimensions for image data"
     ]
    },
    {
     "data": {
      "image/png": "[encoded data removed]",
      "text/plain": [
       "<Figure size 432x288 with 1 Axes>"
      ]
     },
     "metadata": {
      "needs_background": "light"
     },
     "output_type": "display_data"
    }
   ],
   "source": [
    "plt.imshow(train_dataset[0, 0:1])"
   ]
  },
  {
   "cell_type": "code",
   "execution_count": 61,
   "metadata": {},
   "outputs": [
    {
     "data": {
      "text/plain": [
       "<matplotlib.image.AxesImage at 0x15492e18390>"
      ]
     },
     "execution_count": 61,
     "metadata": {},
     "output_type": "execute_result"
    },
    {
     "data": {
      "image/png": "[encoded data removed]",
      "text/plain": [
       "<Figure size 432x288 with 1 Axes>"
      ]
     },
     "metadata": {
      "needs_background": "light"
     },
     "output_type": "display_data"
    }
   ],
   "source": [
    "\n",
    "plt.imshow(train_dataset[0,0:1,0:28])"
   ]
  },
  {
   "cell_type": "markdown",
   "metadata": {
    "colab_type": "text",
    "id": "tIQJaJuwg5Hw"
   },
   "source": [
    "Finally, let's save the data for later reuse:"
   ]
  },
  {
   "cell_type": "code",
   "execution_count": 62,
   "metadata": {
    "cellView": "both",
    "colab": {
     "autoexec": {
      "startup": false,
      "wait_interval": 0
     }
    },
    "colab_type": "code",
    "id": "QiR_rETzem6C"
   },
   "outputs": [],
   "source": [
    "pickle_file = os.path.join(data_root, 'notMNIST.pickle')\n",
    "\n",
    "try:\n",
    "  f = open(pickle_file, 'wb')\n",
    "  save = {\n",
    "    'train_dataset': train_dataset,\n",
    "    'train_labels': train_labels,\n",
    "    'valid_dataset': valid_dataset,\n",
    "    'valid_labels': valid_labels,\n",
    "    'test_dataset': test_dataset,\n",
    "    'test_labels': test_labels,\n",
    "    }\n",
    "  pickle.dump(save, f, pickle.HIGHEST_PROTOCOL)\n",
    "  f.close()\n",
    "except Exception as e:\n",
    "  print('Unable to save data to', pickle_file, ':', e)\n",
    "  raise"
   ]
  },
  {
   "cell_type": "code",
   "execution_count": 63,
   "metadata": {
    "cellView": "both",
    "colab": {
     "autoexec": {
      "startup": false,
      "wait_interval": 0
     },
     "output_extras": [
      {
       "item_id": 1
      }
     ]
    },
    "colab_type": "code",
    "executionInfo": {
     "elapsed": 413065,
     "status": "ok",
     "timestamp": 1444485899688,
     "user": {
      "color": "#1FA15D",
      "displayName": "Vincent Vanhoucke",
      "isAnonymous": false,
      "isMe": true,
      "permissionId": "05076109866853157986",
      "photoUrl": "//lh6.googleusercontent.com/-cCJa7dTDcgQ/AAAAAAAAAAI/AAAAAAAACgw/r2EZ_8oYer4/s50-c-k-no/photo.jpg",
      "sessionId": "2a0a5e044bb03b66",
      "userId": "102167687554210253930"
     },
     "user_tz": 420
    },
    "id": "hQbLjrW_iT39",
    "outputId": "b440efc6-5ee1-4cbc-d02d-93db44ebd956"
   },
   "outputs": [
    {
     "name": "stdout",
     "output_type": "stream",
     "text": [
      "Compressed pickle size: 690800506\n"
     ]
    }
   ],
   "source": [
    "statinfo = os.stat(pickle_file)\n",
    "print('Compressed pickle size:', statinfo.st_size)"
   ]
  },
  {
   "cell_type": "code",
   "execution_count": 95,
   "metadata": {},
   "outputs": [],
   "source": [
    "try:\n",
    "    f = open(pickle_file, 'rb')\n",
    "    loaded = pickle.load(f)\n",
    "except Exception as e:\n",
    "  print('Unable to load data from', pickle_file, ':', e)\n",
    "  raise"
   ]
  },
  {
   "cell_type": "code",
   "execution_count": 97,
   "metadata": {},
   "outputs": [],
   "source": [
    "train_dataset = loaded['train_dataset']\n",
    "train_labels = loaded['train_labels']\n",
    "test_dataset = loaded['test_dataset']\n",
    "test_labels = loaded['test_labels']\n",
    "valid_dataset = loaded['valid_dataset']\n",
    "valid_labels = loaded['valid_labels']"
   ]
  },
  {
   "cell_type": "markdown",
   "metadata": {
    "colab_type": "text",
    "id": "gE_cRAQB33lk"
   },
   "source": [
    "---\n",
    "Problem 5\n",
    "---------\n",
    "\n",
    "By construction, this dataset might contain a lot of overlapping samples, including training data that's also contained in the validation and test set! Overlap between training and test can skew the results if you expect to use your model in an environment where there is never an overlap, but are actually ok if you expect to see training samples recur when you use it.\n",
    "Measure how much overlap there is between training, validation and test samples.\n",
    "\n",
    "Optional questions:\n",
    "- What about near duplicates between datasets? (images that are almost identical)\n",
    "- Create a sanitized validation and test set, and compare your accuracy on those in subsequent assignments.\n",
    "---"
   ]
  },
  {
   "cell_type": "markdown",
   "metadata": {
    "colab_type": "text",
    "id": "L8oww1s4JMQx"
   },
   "source": [
    "---\n",
    "Problem 6\n",
    "---------\n",
    "\n",
    "Let's get an idea of what an off-the-shelf classifier can give you on this data. It's always good to check that there is something to learn, and that it's a problem that is not so trivial that a canned solution solves it.\n",
    "\n",
    "Train a simple model on this data using 50, 100, 1000 and 5000 training samples. Hint: you can use the LogisticRegression model from sklearn.linear_model.\n",
    "\n",
    "Optional question: train an off-the-shelf model on all the data!\n",
    "\n",
    "---"
   ]
  },
  {
   "cell_type": "code",
   "execution_count": 100,
   "metadata": {},
   "outputs": [
    {
     "name": "stdout",
     "output_type": "stream",
     "text": [
      "(200000, 28, 28)\n",
      "(10000, 28, 28)\n",
      "(10000, 28, 28)\n"
     ]
    }
   ],
   "source": [
    "print(train_dataset.shape)\n",
    "print(valid_dataset.shape)\n",
    "print(test_dataset.shape)"
   ]
  },
  {
   "cell_type": "code",
   "execution_count": 101,
   "metadata": {},
   "outputs": [],
   "source": [
    "train_dataset_reshape  = train_dataset.reshape(200000, 784)\n",
    "valid_dataset_reshape  = valid_dataset.reshape(10000, 784)\n",
    "test_dataset_reshape  = test_dataset.reshape(10000, 784)\n"
   ]
  },
  {
   "cell_type": "code",
   "execution_count": 108,
   "metadata": {},
   "outputs": [
    {
     "name": "stdout",
     "output_type": "stream",
     "text": [
      "(200000, 784)\n",
      "(10000, 784)\n",
      "(10000, 784)\n"
     ]
    }
   ],
   "source": [
    "print(train_dataset_reshape.shape)\n",
    "print(valid_dataset_reshape.shape)\n",
    "print(test_dataset_reshape.shape)"
   ]
  },
  {
   "cell_type": "code",
   "execution_count": 119,
   "metadata": {},
   "outputs": [
    {
     "data": {
      "text/plain": [
       "6"
      ]
     },
     "execution_count": 119,
     "metadata": {},
     "output_type": "execute_result"
    }
   ],
   "source": [
    "train_labels[2]"
   ]
  },
  {
   "cell_type": "code",
   "execution_count": 113,
   "metadata": {},
   "outputs": [
    {
     "data": {
      "text/plain": [
       "array([-0.5       , -0.49607843, -0.5       , -0.42156863,  0.3156863 ,\n",
       "        0.46470588, -0.30784315, -0.17058824,  0.5       ,  0.19803922,\n",
       "       -0.46470588,  0.20980392,  0.5       , -0.23333333, -0.22941177,\n",
       "        0.5       ,  0.20980392, -0.46078432,  0.20980392,  0.5       ,\n",
       "       -0.21372549, -0.43333334,  0.37058824,  0.40980393, -0.33529413,\n",
       "       -0.5       , -0.49215686, -0.5       , -0.49607843, -0.4764706 ,\n",
       "       -0.5       , -0.19803922,  0.5       ,  0.5       ,  0.01764706,\n",
       "        0.16666667,  0.5       ,  0.4490196 , -0.1392157 ,  0.45294118,\n",
       "        0.5       ,  0.09607843,  0.09607843,  0.5       ,  0.45294118,\n",
       "       -0.13529412,  0.45294118,  0.5       ,  0.08431373, -0.19019608,\n",
       "        0.5       ,  0.5       , -0.04901961, -0.5       , -0.47254902,\n",
       "       -0.49607843, -0.49607843, -0.49607843, -0.5       , -0.43333334,\n",
       "        0.19019608,  0.31960785, -0.3392157 , -0.22156863,  0.36666667,\n",
       "        0.09215686, -0.48039216,  0.12352941,  0.4019608 , -0.2764706 ,\n",
       "       -0.2764706 ,  0.4019608 ,  0.12352941, -0.4764706 ,  0.10392157,\n",
       "        0.35490197, -0.25686276, -0.44509804,  0.2372549 ,  0.27254903,\n",
       "       -0.35882354, -0.5       , -0.49607843, -0.49607843, -0.45686275,\n",
       "       -0.28039217, -0.43333334, -0.5       , -0.37058824, -0.31176472,\n",
       "       -0.5       , -0.49215686, -0.28431374, -0.4137255 , -0.5       ,\n",
       "       -0.49607843, -0.49215686, -0.5       , -0.5       , -0.49215686,\n",
       "       -0.49607843, -0.5       , -0.40980393, -0.29215688, -0.49607843,\n",
       "       -0.5       , -0.35490197, -0.33137256, -0.5       , -0.45686275,\n",
       "       -0.28039217, -0.44117647,  0.19411765,  0.5       ,  0.20588236,\n",
       "       -0.32352942,  0.44117647,  0.5       , -0.16666667, -0.01764706,\n",
       "        0.5       ,  0.35490197, -0.41764706, -0.5       , -0.49215686,\n",
       "       -0.49215686, -0.49215686, -0.49215686, -0.5       , -0.4137255 ,\n",
       "        0.3627451 ,  0.5       , -0.07647059, -0.33529413,  0.4882353 ,\n",
       "        0.5       , -0.24117647,  0.1       ,  0.5       ,  0.2529412 ,\n",
       "        0.37058824,  0.5       ,  0.34313726, -0.15882353,  0.5       ,\n",
       "        0.5       , -0.00588235,  0.1392157 ,  0.5       ,  0.4764706 ,\n",
       "       -0.3392157 , -0.5       , -0.4882353 , -0.5       , -0.5       ,\n",
       "       -0.4882353 , -0.5       , -0.33529413,  0.4764706 ,  0.5       ,\n",
       "        0.06078431, -0.21764706,  0.5       ,  0.5       , -0.08039216,\n",
       "        0.24117647,  0.5       ,  0.42156863, -0.31960785,  0.07647059,\n",
       "       -0.2764706 , -0.5       , -0.1       ,  0.01764706, -0.4764706 ,\n",
       "       -0.40980393,  0.06862745, -0.19019608, -0.5       , -0.49607843,\n",
       "       -0.5       , -0.5       , -0.5       , -0.5       , -0.49607843,\n",
       "       -0.5       , -0.13137256,  0.10392157, -0.39411765, -0.5       ,\n",
       "       -0.06078431, -0.01764706, -0.5       , -0.33137256,  0.07647059,\n",
       "       -0.2764706 , -0.21372549,  0.19803922, -0.17058824, -0.5       ,\n",
       "        0.0254902 ,  0.14705883, -0.42156863, -0.33137256,  0.19019608,\n",
       "       -0.07254902, -0.5       , -0.49607843, -0.5       , -0.5       ,\n",
       "       -0.5       , -0.5       , -0.5       , -0.5       , -0.5       ,\n",
       "       -0.49607843, -0.5       , -0.46470588,  0.05686275,  0.10784314,\n",
       "       -0.46862745, -0.24509804,  0.19803922, -0.16666667,  0.38235295,\n",
       "        0.5       ,  0.3509804 , -0.14313726,  0.5       ,  0.5       ,\n",
       "        0.00980392,  0.1627451 ,  0.5       ,  0.4882353 , -0.327451  ,\n",
       "       -0.5       , -0.48039216, -0.5       , -0.5       , -0.4882353 ,\n",
       "       -0.49215686, -0.5       , -0.4882353 , -0.46862745, -0.5       ,\n",
       "       -0.1392157 ,  0.5       ,  0.5       , -0.05294118,  0.26078433,\n",
       "        0.5       ,  0.44117647,  0.06470589,  0.45686275,  0.0882353 ,\n",
       "       -0.39019608,  0.30784315,  0.4254902 , -0.2529412 , -0.12352941,\n",
       "        0.46078432,  0.21764706, -0.45294118, -0.5       , -0.49607843,\n",
       "       -0.49607843, -0.49607843, -0.5       , -0.5       , -0.49607843,\n",
       "       -0.5       , -0.49215686, -0.5       , -0.34705883,  0.38235295,\n",
       "        0.43333334, -0.327451  ,  0.00196078,  0.5       ,  0.1392157 ,\n",
       "       -0.42941177, -0.11176471, -0.39411765, -0.5       , -0.26078433,\n",
       "       -0.1627451 , -0.5       , -0.48039216, -0.12352941, -0.33137256,\n",
       "       -0.5       , -0.35490197, -0.22941177, -0.4882353 , -0.4882353 ,\n",
       "       -0.22941177, -0.3627451 , -0.5       , -0.49607843, -0.5       ,\n",
       "       -0.5       , -0.5       , -0.43333334, -0.42156863, -0.5       ,\n",
       "       -0.4882353 , -0.39803922, -0.48039216,  0.24117647,  0.5       ,\n",
       "        0.24117647, -0.2882353 ,  0.46078432,  0.5       , -0.13137256,\n",
       "        0.01764706,  0.5       ,  0.3627451 , -0.30784315,  0.36666667,\n",
       "        0.5       , -0.05686275, -0.05686275,  0.5       ,  0.39019608,\n",
       "       -0.4019608 , -0.5       , -0.49215686, -0.5       , -0.49607843,\n",
       "       -0.49607843, -0.5       , -0.49215686, -0.49607843, -0.5       ,\n",
       "       -0.49215686,  0.3627451 ,  0.5       ,  0.33137256, -0.17843138,\n",
       "        0.5       ,  0.5       , -0.01372549,  0.12352941,  0.5       ,\n",
       "        0.43333334, -0.19019608,  0.4372549 ,  0.5       ,  0.05294118,\n",
       "        0.05686275,  0.5       ,  0.47254902, -0.34313726, -0.5       ,\n",
       "       -0.49215686, -0.5       , -0.5       , -0.49607843, -0.49607843,\n",
       "       -0.5       , -0.5       , -0.49215686, -0.5       , -0.35882354,\n",
       "        0.0254902 , -0.30784315, -0.5       , -0.14705883, -0.03333334,\n",
       "       -0.49215686, -0.42941177,  0.01372549, -0.22941177, -0.5       ,\n",
       "       -0.21764706,  0.00196078, -0.45294118, -0.45294118,  0.00196078,\n",
       "       -0.22156863, -0.5       , -0.49607843, -0.5       , -0.5       ,\n",
       "       -0.5       , -0.5       , -0.5       , -0.5       , -0.5       ,\n",
       "       -0.5       , -0.5       , -0.1509804 ,  0.26078433, -0.11176471,\n",
       "       -0.4882353 ,  0.09215686,  0.21372549, -0.38627452, -0.28431374,\n",
       "        0.25686276, -0.00588235, -0.5       ,  0.00588235,  0.24901961,\n",
       "       -0.33137256, -0.327451  ,  0.24901961,  0.00588235, -0.5       ,\n",
       "       -0.5       , -0.5       , -0.5       , -0.5       , -0.5       ,\n",
       "       -0.5       , -0.5       , -0.5       , -0.5       , -0.5       ,\n",
       "        0.38627452,  0.5       ,  0.3509804 , -0.1392157 ,  0.5       ,\n",
       "        0.5       ,  0.01764706,  0.1627451 ,  0.5       ,  0.4490196 ,\n",
       "       -0.1392157 ,  0.45294118,  0.5       ,  0.09607843,  0.09607843,\n",
       "        0.5       ,  0.49215686, -0.31960785, -0.5       , -0.49215686,\n",
       "       -0.5       , -0.5       , -0.49607843, -0.49607843, -0.5       ,\n",
       "       -0.5       , -0.49215686, -0.5       ,  0.02156863,  0.4490196 ,\n",
       "        0.05294118, -0.42156863,  0.28431374,  0.40588236, -0.2882353 ,\n",
       "       -0.15882353,  0.4490196 ,  0.17450981, -0.44117647,  0.19411765,\n",
       "        0.46862745, -0.2254902 , -0.22156863,  0.46470588,  0.19803922,\n",
       "       -0.47254902, -0.5       , -0.49607843, -0.5       , -0.49607843,\n",
       "       -0.49607843, -0.5       , -0.49215686, -0.49607843, -0.5       ,\n",
       "       -0.49215686, -0.48431373, -0.3392157 , -0.46470588, -0.5       ,\n",
       "       -0.40980393, -0.36666667, -0.5       , -0.5       , -0.34705883,\n",
       "       -0.44509804, -0.5       , -0.4764706 , -0.4490196 , -0.5       ,\n",
       "       -0.5       , -0.4490196 , -0.48039216, -0.5       , -0.5       ,\n",
       "       -0.5       , -0.5       , -0.5       , -0.43333334, -0.42156863,\n",
       "       -0.5       , -0.4882353 , -0.39803922, -0.48039216,  0.08431373,\n",
       "        0.5       ,  0.10784314, -0.39019608,  0.34313726,  0.46470588,\n",
       "       -0.24509804, -0.11176471,  0.5       ,  0.24509804, -0.45294118,\n",
       "       -0.5       , -0.49607843, -0.49607843, -0.49607843, -0.5       ,\n",
       "       -0.49215686, -0.49607843, -0.5       , -0.49215686, -0.5       ,\n",
       "       -0.34705883,  0.38235295,  0.43333334, -0.32352942,  0.00588235,\n",
       "        0.5       ,  0.1392157 ,  0.38235295,  0.5       ,  0.3509804 ,\n",
       "       -0.14313726,  0.5       ,  0.5       ,  0.00980392,  0.1627451 ,\n",
       "        0.5       ,  0.4882353 , -0.327451  , -0.5       , -0.4882353 ,\n",
       "       -0.5       , -0.5       , -0.49607843, -0.5       , -0.5       ,\n",
       "       -0.4882353 , -0.46862745, -0.5       , -0.1392157 ,  0.5       ,\n",
       "        0.5       , -0.05294118,  0.26078433,  0.5       ,  0.44117647,\n",
       "       -0.21764706,  0.19803922, -0.17058824, -0.5       ,  0.0254902 ,\n",
       "        0.14705883, -0.4254902 , -0.33529413,  0.19019608, -0.07254902,\n",
       "       -0.5       , -0.49607843, -0.5       , -0.5       , -0.5       ,\n",
       "       -0.5       , -0.5       , -0.5       , -0.5       , -0.49607843,\n",
       "       -0.5       , -0.46470588,  0.05686275,  0.10784314, -0.47254902,\n",
       "       -0.24509804,  0.20196079, -0.16666667, -0.31960785,  0.07254902,\n",
       "       -0.2764706 , -0.5       , -0.1       ,  0.01764706, -0.4764706 ,\n",
       "       -0.40980393,  0.06470589, -0.19019608, -0.5       , -0.49607843,\n",
       "       -0.5       , -0.5       , -0.5       , -0.5       , -0.49607843,\n",
       "       -0.5       , -0.13137256,  0.1       , -0.39803922, -0.5       ,\n",
       "       -0.06470589, -0.02156863, -0.5       , -0.33137256,  0.07254902,\n",
       "       -0.28039217,  0.37058824,  0.5       ,  0.34313726, -0.15882353,\n",
       "        0.5       ,  0.5       , -0.00588235,  0.1392157 ,  0.5       ,\n",
       "        0.4764706 , -0.3392157 , -0.5       , -0.48431373, -0.5       ,\n",
       "       -0.5       , -0.48431373, -0.5       , -0.33529413,  0.48039216,\n",
       "        0.5       ,  0.06078431, -0.21764706,  0.5       ,  0.5       ,\n",
       "       -0.08039216,  0.24117647,  0.5       ,  0.42156863,  0.19411765,\n",
       "        0.5       ,  0.20588236, -0.31960785,  0.4254902 ,  0.5       ,\n",
       "       -0.1627451 , -0.02156863,  0.5       ,  0.34313726, -0.4137255 ,\n",
       "       -0.5       , -0.49607843, -0.49607843, -0.49607843, -0.49607843,\n",
       "       -0.5       , -0.40980393,  0.34705883,  0.5       , -0.07647059,\n",
       "       -0.33137256,  0.46862745,  0.49215686, -0.24117647,  0.1       ,\n",
       "        0.5       ,  0.25686276, -0.45686275, -0.2764706 , -0.42941177,\n",
       "       -0.5       , -0.28039217, -0.18235295, -0.5       , -0.48431373,\n",
       "       -0.14313726, -0.34313726, -0.5       , -0.43333334, -0.3627451 ,\n",
       "       -0.5       , -0.5       , -0.3627451 , -0.43333334, -0.5       ,\n",
       "       -0.33529413, -0.15490197, -0.4882353 , -0.5       , -0.24901961,\n",
       "       -0.21372549, -0.5       , -0.45686275, -0.2764706 , -0.44117647,\n",
       "       -0.49607843, -0.49215686, -0.5       , -0.35490197,  0.35882354,\n",
       "        0.46470588, -0.21372549, -0.07647059,  0.5       ,  0.26078433,\n",
       "       -0.37843138,  0.2882353 ,  0.5       , -0.14313726, -0.1392157 ,\n",
       "        0.5       ,  0.28431374, -0.3745098 ,  0.26862746,  0.49607843,\n",
       "       -0.12745099, -0.3627451 ,  0.40588236,  0.42941177, -0.2529412 ,\n",
       "       -0.5       , -0.49215686, -0.49607843, -0.49607843, -0.4764706 ,\n",
       "       -0.5       , -0.20588236,  0.5       ,  0.5       ,  0.00196078,\n",
       "        0.14705883,  0.5       ,  0.44117647, -0.1627451 ,  0.44509804,\n",
       "        0.5       ,  0.07647059,  0.07647059,  0.5       ,  0.44509804,\n",
       "       -0.15882353,  0.44509804,  0.5       ,  0.07254902, -0.20588236,\n",
       "        0.5       ,  0.5       , -0.06862745, -0.5       , -0.47254902,\n",
       "       -0.49607843, -0.5       , -0.49607843, -0.5       , -0.4882353 ,\n",
       "        0.05294118,  0.19411765, -0.42941177, -0.33137256,  0.24901961,\n",
       "       -0.04509804, -0.5       , -0.03333334,  0.24117647, -0.37843138,\n",
       "       -0.37843138,  0.24117647, -0.03333334, -0.5       , -0.03333334,\n",
       "        0.23333333, -0.35882354, -0.5       ,  0.10392157,  0.14705883,\n",
       "       -0.44509804, -0.5       , -0.49607843, -0.5       ], dtype=float32)"
      ]
     },
     "execution_count": 113,
     "metadata": {},
     "output_type": "execute_result"
    }
   ],
   "source": [
    "train_dataset_reshape[0]"
   ]
  },
  {
   "cell_type": "code",
   "execution_count": 152,
   "metadata": {},
   "outputs": [],
   "source": [
    "clf = LogisticRegression(random_state=0, solver='lbfgs',\n",
    "                         multi_class='multinomial',\n",
    "                        max_iter =1000).fit(train_dataset_reshape, train_labels)"
   ]
  },
  {
   "cell_type": "code",
   "execution_count": 163,
   "metadata": {},
   "outputs": [
    {
     "name": "stdout",
     "output_type": "stream",
     "text": [
      "[[0.00957669 0.23458512 0.44852533 0.01202461 0.18675175 0.00347587\n",
      "  0.07961863 0.00640056 0.01704664 0.00199479]]\n"
     ]
    }
   ],
   "source": [
    "for i in range(0, 1):\n",
    "    print(clf.predict_proba([train_dataset_reshape[i]]))"
   ]
  },
  {
   "cell_type": "code",
   "execution_count": 164,
   "metadata": {},
   "outputs": [
    {
     "data": {
      "image/png": "[encoded data removed]",
      "text/plain": [
       "<Figure size 432x288 with 1 Axes>"
      ]
     },
     "metadata": {
      "needs_background": "light"
     },
     "output_type": "display_data"
    }
   ],
   "source": [
    "print_one(train_dataset_reshape[0])"
   ]
  },
  {
   "cell_type": "code",
   "execution_count": 156,
   "metadata": {},
   "outputs": [
    {
     "name": "stdout",
     "output_type": "stream",
     "text": [
      "Train Score: 0.840245\n",
      " Valid Score: 0.8314\n"
     ]
    }
   ],
   "source": [
    "train_score = clf.score(train_dataset_reshape, train_labels)\n",
    "valid_score = clf.score(valid_dataset_reshape, valid_labels)\n",
    "test_score = clf.score(test_dataset_reshape, test_labels)\n"
   ]
  },
  {
   "cell_type": "code",
   "execution_count": 159,
   "metadata": {},
   "outputs": [
    {
     "name": "stdout",
     "output_type": "stream",
     "text": [
      "Train Score: 0.840245\n",
      "Valid Score: 0.8314\n",
      "Test Score: 0.9005\n"
     ]
    }
   ],
   "source": [
    "print(\"Train Score: {0}\\nValid Score: {1}\\nTest Score: {2}\".format(train_score, valid_score, test_score))"
   ]
  }
 ],
 "metadata": {
  "colab": {
   "default_view": {},
   "name": "1_notmnist.ipynb",
   "provenance": [],
   "version": "0.3.2",
   "views": {}
  },
  "kernelspec": {
   "display_name": "Python 3",
   "language": "python",
   "name": "python3"
  },
  "language_info": {
   "codemirror_mode": {
    "name": "ipython",
    "version": 3
   },
   "file_extension": ".py",
   "mimetype": "text/x-python",
   "name": "python",
   "nbconvert_exporter": "python",
   "pygments_lexer": "ipython3",
   "version": "3.6.6"
  }
 },
 "nbformat": 4,
 "nbformat_minor": 1
}
